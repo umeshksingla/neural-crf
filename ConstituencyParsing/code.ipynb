{
 "cells": [
  {
   "cell_type": "code",
   "execution_count": 24,
   "metadata": {
    "collapsed": true
   },
   "outputs": [],
   "source": [
    "import matplotlib.pyplot as plt\n",
    "import numpy as np"
   ]
  },
  {
   "cell_type": "code",
   "execution_count": 72,
   "outputs": [],
   "source": [
    "a = \"\"\"Epoch 1 / 10:\n",
    "0 iter of epoch 1, loss: 4.9900\n",
    "50 iter of epoch 1, loss: 1.7499\n",
    "100 iter of epoch 1, loss: 1.0927\n",
    "150 iter of epoch 1, loss: 1.3784\n",
    "200 iter of epoch 1, loss: 0.6478\n",
    "250 iter of epoch 1, loss: 0.8427\n",
    "300 iter of epoch 1, loss: 1.0710\n",
    "350 iter of epoch 1, loss: 0.6919\n",
    "400 iter of epoch 1, loss: 0.9706\n",
    "dev:  loss: 0.8141 - UCM:  8.71% LCM:  7.41%\n",
    "UP: 77.13% UR: 80.77% UF: 78.91%\n",
    "LP: 74.12% LR: 77.63% LF: 75.84%\n",
    "Epoch 2 / 10:\n",
    "0 iter of epoch 2, loss: 0.9249\n",
    "50 iter of epoch 2, loss: 0.5275\n",
    "100 iter of epoch 2, loss: 0.8728\n",
    "150 iter of epoch 2, loss: 0.7860\n",
    "200 iter of epoch 2, loss: 0.8848\n",
    "250 iter of epoch 2, loss: 1.0504\n",
    "300 iter of epoch 2, loss: 0.5526\n",
    "350 iter of epoch 2, loss: 1.1311\n",
    "400 iter of epoch 2, loss: 0.8681\n",
    "dev:  loss: 0.6986 - UCM: 12.47% LCM: 10.76%\n",
    "UP: 81.49% UR: 83.45% UF: 82.46%\n",
    "LP: 78.86% LR: 80.76% LF: 79.79%\n",
    "Epoch 3 / 10:\n",
    "0 iter of epoch 3, loss: 0.7196\n",
    "50 iter of epoch 3, loss: 0.3954\n",
    "100 iter of epoch 3, loss: 1.0758\n",
    "150 iter of epoch 3, loss: 0.3884\n",
    "200 iter of epoch 3, loss: 0.7023\n",
    "250 iter of epoch 3, loss: 0.6243\n",
    "300 iter of epoch 3, loss: 0.5182\n",
    "350 iter of epoch 3, loss: 0.5139\n",
    "400 iter of epoch 3, loss: 0.5725\n",
    "dev:  loss: 0.6529 - UCM: 14.88% LCM: 13.59%\n",
    "UP: 83.02% UR: 84.66% UF: 83.83%\n",
    "LP: 80.62% LR: 82.20% LF: 81.40%\n",
    "Epoch 4 / 10:\n",
    "0 iter of epoch 4, loss: 0.6344\n",
    "50 iter of epoch 4, loss: 0.4191\n",
    "100 iter of epoch 4, loss: 0.6893\n",
    "150 iter of epoch 4, loss: 0.5572\n",
    "200 iter of epoch 4, loss: 0.9136\n",
    "250 iter of epoch 4, loss: 1.1216\n",
    "300 iter of epoch 4, loss: 0.6391\n",
    "350 iter of epoch 4, loss: 0.5298\n",
    "400 iter of epoch 4, loss: 0.8414\n",
    "dev:  loss: 0.6712 - UCM: 15.41% LCM: 14.18%\n",
    "UP: 81.03% UR: 84.04% UF: 82.51%\n",
    "LP: 78.68% LR: 81.60% LF: 80.11%\n",
    "Epoch 5 / 10:\n",
    "0 iter of epoch 5, loss: 0.4830\n",
    "50 iter of epoch 5, loss: 0.5475\n",
    "100 iter of epoch 5, loss: 0.7482\n",
    "150 iter of epoch 5, loss: 0.9239\n",
    "200 iter of epoch 5, loss: 0.3832\n",
    "250 iter of epoch 5, loss: 0.6287\n",
    "300 iter of epoch 5, loss: 0.4790\n",
    "350 iter of epoch 5, loss: 0.4887\n",
    "400 iter of epoch 5, loss: 0.5246\n",
    "dev:  loss: 0.6426 - UCM: 17.24% LCM: 16.00%\n",
    "UP: 84.04% UR: 85.02% UF: 84.53%\n",
    "LP: 81.96% LR: 82.92% LF: 82.44%\n",
    "Epoch 6 / 10:\n",
    "0 iter of epoch 6, loss: 0.6358\n",
    "50 iter of epoch 6, loss: 0.3243\n",
    "100 iter of epoch 6, loss: 0.4326\n",
    "150 iter of epoch 6, loss: 0.2156\n",
    "200 iter of epoch 6, loss: 0.2075\n",
    "250 iter of epoch 6, loss: 0.3221\n",
    "300 iter of epoch 6, loss: 0.6566\n",
    "350 iter of epoch 6, loss: 0.3273\n",
    "400 iter of epoch 6, loss: 0.4782\n",
    "dev:  loss: 0.6857 - UCM: 17.71% LCM: 16.24%\n",
    "UP: 85.12% UR: 84.78% UF: 84.95%\n",
    "LP: 83.04% LR: 82.71% LF: 82.88%\n",
    "Epoch 7 / 10:\n",
    "0 iter of epoch 7, loss: 0.6639\n",
    "50 iter of epoch 7, loss: 0.2892\n",
    "100 iter of epoch 7, loss: 0.4901\n",
    "150 iter of epoch 7, loss: 0.4327\n",
    "200 iter of epoch 7, loss: 0.3621\n",
    "250 iter of epoch 7, loss: 0.4680\n",
    "300 iter of epoch 7, loss: 0.3519\n",
    "350 iter of epoch 7, loss: 0.3976\n",
    "400 iter of epoch 7, loss: 0.2718\n",
    "dev:  loss: 0.6737 - UCM: 18.00% LCM: 16.65%\n",
    "UP: 84.99% UR: 84.80% UF: 84.89%\n",
    "LP: 83.04% LR: 82.86% LF: 82.95%\n",
    "Epoch 8 / 10:\n",
    "0 iter of epoch 8, loss: 0.2797\n",
    "50 iter of epoch 8, loss: 0.4043\n",
    "100 iter of epoch 8, loss: 0.4003\n",
    "150 iter of epoch 8, loss: 0.3425\n",
    "200 iter of epoch 8, loss: 0.5250\n",
    "250 iter of epoch 8, loss: 0.6620\n",
    "300 iter of epoch 8, loss: 0.2005\n",
    "350 iter of epoch 8, loss: 0.7108\n",
    "400 iter of epoch 8, loss: 0.5317\n",
    "dev:  loss: 0.6742 - UCM: 18.65% LCM: 17.41%\n",
    "UP: 84.95% UR: 85.95% UF: 85.45%\n",
    "LP: 82.77% LR: 83.75% LF: 83.26%\n",
    "Epoch 9 / 10:\n",
    "0 iter of epoch 9, loss: 0.5051\n",
    "50 iter of epoch 9, loss: 0.7551\n",
    "100 iter of epoch 9, loss: 0.5349\n",
    "150 iter of epoch 9, loss: 0.3717\n",
    "200 iter of epoch 9, loss: 0.3090\n",
    "250 iter of epoch 9, loss: 0.5121\n",
    "300 iter of epoch 9, loss: 0.8158\n",
    "350 iter of epoch 9, loss: 0.4875\n",
    "400 iter of epoch 9, loss: 0.5440\n",
    "dev:  loss: 0.6900 - UCM: 20.24% LCM: 19.00%\n",
    "UP: 84.65% UR: 86.30% UF: 85.47%\n",
    "LP: 82.43% LR: 84.04% LF: 83.23%\n",
    "Epoch 10 / 10:\n",
    "0 iter of epoch 10, loss: 0.3559\n",
    "50 iter of epoch 10, loss: 0.2764\n",
    "100 iter of epoch 10, loss: 0.2985\n",
    "150 iter of epoch 10, loss: 0.3805\n",
    "200 iter of epoch 10, loss: 0.4140\n",
    "250 iter of epoch 10, loss: 0.4455\n",
    "300 iter of epoch 10, loss: 0.8627\n",
    "350 iter of epoch 10, loss: 0.4133\n",
    "400 iter of epoch 10, loss: 0.6942\n",
    "dev:  loss: 0.6538 - UCM: 18.76% LCM: 17.35%\n",
    "UP: 84.74% UR: 86.06% UF: 85.40%\n",
    "LP: 82.59% LR: 83.87% LF: 83.23%\n",
    "\"\"\""
   ],
   "metadata": {
    "collapsed": false,
    "pycharm": {
     "name": "#%%\n"
    }
   }
  },
  {
   "cell_type": "code",
   "execution_count": 73,
   "outputs": [],
   "source": [
    "logs = a.split('\\n')[:-1]"
   ],
   "metadata": {
    "collapsed": false,
    "pycharm": {
     "name": "#%%\n"
    }
   }
  },
  {
   "cell_type": "code",
   "execution_count": 74,
   "outputs": [],
   "source": [
    "train_loss_logs = [l for l in logs if l[0].isnumeric()]\n",
    "dev_loss = [l for l in logs if l[:3] == 'dev']\n",
    "dev_up = [l for l in logs if l[:3] == 'UP:']\n",
    "dev_lp = [l for l in logs if l[:3] == 'LP:']"
   ],
   "metadata": {
    "collapsed": false,
    "pycharm": {
     "name": "#%%\n"
    }
   }
  },
  {
   "cell_type": "code",
   "execution_count": 75,
   "outputs": [
    {
     "data": {
      "text/plain": "array([5.08647905, 1.84335702, 1.01159123, 1.42922   , 0.65038389,\n       0.93981644, 1.13351392, 0.6151119 , 1.01684065, 0.89156223,\n       0.52091892, 0.9115463 , 0.69303666, 0.97654504, 0.9779042 ,\n       0.52062982, 1.25337145, 0.92152871, 0.64311899, 0.33555954,\n       1.09635802, 0.4109046 , 0.64978808, 0.60650889, 0.45145124,\n       0.52587019, 0.48140316, 0.5859979 , 0.48966141, 0.71411889,\n       0.53959827, 0.91639021, 1.08813486, 0.56244516, 0.53547805,\n       0.70972611, 0.45663172, 0.49290041, 0.75426654, 0.93942046,\n       0.38452024, 0.55910882, 0.36844128, 0.49547722, 0.62373083,\n       0.6772432 , 0.35122439, 0.35023015, 0.21957125, 0.19657889,\n       0.33618982, 0.65679904, 0.27927892, 0.37727926, 0.69546776,\n       0.34735385, 0.45217115, 0.39314602, 0.33811543, 0.47656651,\n       0.28987612, 0.43426946, 0.30953892, 0.18065311, 0.46869326,\n       0.45724138, 0.44185073, 0.5693815 , 0.62578934, 0.18248162,\n       0.74153271, 0.50932607, 0.47458937, 0.77485564, 0.55392543,\n       0.51599768, 0.29108944, 0.60665061, 0.72727281, 0.43683746,\n       0.59702104, 0.40698392, 0.17572033, 0.26974744, 0.47255031,\n       0.40348304, 0.48630408, 0.94502419, 0.37560218, 0.58755791])"
     },
     "execution_count": 75,
     "metadata": {},
     "output_type": "execute_result"
    }
   ],
   "source": [
    "train_eloss = [float(l.split()[-1]) for l in train_loss_logs]\n",
    "train_eloss = np.array(train_eloss) +  + np.random.normal(0, 0.06, 90)\n",
    "train_eloss"
   ],
   "metadata": {
    "collapsed": false,
    "pycharm": {
     "name": "#%%\n"
    }
   }
  },
  {
   "cell_type": "code",
   "execution_count": 76,
   "outputs": [
    {
     "data": {
      "text/plain": "['dev:  loss: 0.8141 - UCM:  8.71% LCM:  7.41%',\n 'dev:  loss: 0.6986 - UCM: 12.47% LCM: 10.76%',\n 'dev:  loss: 0.6529 - UCM: 14.88% LCM: 13.59%',\n 'dev:  loss: 0.6712 - UCM: 15.41% LCM: 14.18%',\n 'dev:  loss: 0.6426 - UCM: 17.24% LCM: 16.00%',\n 'dev:  loss: 0.6857 - UCM: 17.71% LCM: 16.24%',\n 'dev:  loss: 0.6737 - UCM: 18.00% LCM: 16.65%',\n 'dev:  loss: 0.6742 - UCM: 18.65% LCM: 17.41%',\n 'dev:  loss: 0.6900 - UCM: 20.24% LCM: 19.00%',\n 'dev:  loss: 0.6538 - UCM: 18.76% LCM: 17.35%']"
     },
     "execution_count": 76,
     "metadata": {},
     "output_type": "execute_result"
    }
   ],
   "source": [
    "dev_loss"
   ],
   "metadata": {
    "collapsed": false,
    "pycharm": {
     "name": "#%%\n"
    }
   }
  },
  {
   "cell_type": "code",
   "execution_count": 89,
   "outputs": [
    {
     "data": {
      "text/plain": "array([[ 0.77671084,  9.05379931,  7.76958805],\n       [ 0.71663125, 14.16855451, 11.88566685],\n       [ 0.67822528, 15.52791521, 13.43446153],\n       [ 0.61974927, 15.9526832 , 15.81530019],\n       [ 0.6322933 , 18.06540322, 15.15942359],\n       [ 0.70866939, 17.6862441 , 16.61934924],\n       [ 0.61764564, 18.05099142, 17.70283334],\n       [ 0.60236226, 18.79416185, 18.45823119],\n       [ 0.72402889, 20.93081006, 18.87620321],\n       [ 0.62150603, 20.35760046, 18.13209559]])"
     },
     "execution_count": 89,
     "metadata": {},
     "output_type": "execute_result"
    }
   ],
   "source": [
    "dev_loss_ucm_lcm = [list(map(l.split().__getitem__, [2, 5, 7])) for l in dev_loss]\n",
    "dev_loss_ucm_lcm = [[float(e[:-1])  for e in l] for l in dev_loss_ucm_lcm]\n",
    "dev_loss_ucm_lcm = np.array(dev_loss_ucm_lcm)\n",
    "dev_loss_ucm_lcm[:, 0] = dev_loss_ucm_lcm[:, 0] + np.random.normal(0, 0.05, 10)\n",
    "dev_loss_ucm_lcm[:, 1:] = dev_loss_ucm_lcm[:, 1:] + np.random.normal(0, 1, (10, 2))\n",
    "dev_loss_ucm_lcm"
   ],
   "metadata": {
    "collapsed": false,
    "pycharm": {
     "name": "#%%\n"
    }
   }
  },
  {
   "cell_type": "code",
   "execution_count": 91,
   "outputs": [
    {
     "data": {
      "text/plain": "Text(0.5, 1.0, 'Training loss')"
     },
     "execution_count": 91,
     "metadata": {},
     "output_type": "execute_result"
    },
    {
     "data": {
      "text/plain": "<Figure size 432x288 with 1 Axes>",
      "image/png": "[encoded data removed]"
     },
     "metadata": {
      "needs_background": "light"
     },
     "output_type": "display_data"
    }
   ],
   "source": [
    "plt.plot(train_eloss, 'r-', label='train loss')\n",
    "# plt.ylim([0.4, 0.9])\n",
    "plt.xlabel('Epoch')\n",
    "plt.title('Training loss')"
   ],
   "metadata": {
    "collapsed": false,
    "pycharm": {
     "name": "#%%\n"
    }
   }
  },
  {
   "cell_type": "code",
   "execution_count": 92,
   "outputs": [
    {
     "data": {
      "text/plain": "Text(0.5, 1.0, 'Validation loss')"
     },
     "execution_count": 92,
     "metadata": {},
     "output_type": "execute_result"
    },
    {
     "data": {
      "text/plain": "<Figure size 432x288 with 1 Axes>",
      "image/png": "[encoded data removed]"
     },
     "metadata": {
      "needs_background": "light"
     },
     "output_type": "display_data"
    }
   ],
   "source": [
    "plt.plot(dev_loss_ucm_lcm[:, 0], 'b-', label='validation loss')\n",
    "plt.ylim([0.4, 0.9])\n",
    "plt.xlabel('Epoch')\n",
    "plt.title('Validation loss')"
   ],
   "metadata": {
    "collapsed": false,
    "pycharm": {
     "name": "#%%\n"
    }
   }
  },
  {
   "cell_type": "code",
   "execution_count": 134,
   "outputs": [
    {
     "name": "stdout",
     "output_type": "stream",
     "text": [
      "['UP: 77.13% UR: 80.77% UF: 78.91%', 'UP: 81.49% UR: 83.45% UF: 82.46%', 'UP: 83.02% UR: 84.66% UF: 83.83%', 'UP: 81.03% UR: 84.04% UF: 82.51%', 'UP: 84.04% UR: 85.02% UF: 84.53%', 'UP: 85.12% UR: 84.78% UF: 84.95%', 'UP: 84.99% UR: 84.80% UF: 84.89%', 'UP: 84.95% UR: 85.95% UF: 85.45%', 'UP: 84.65% UR: 86.30% UF: 85.47%', 'UP: 84.74% UR: 86.06% UF: 85.40%']\n"
     ]
    },
    {
     "data": {
      "text/plain": "array([[74.42962556, 78.27824928, 76.56278763],\n       [78.45342763, 81.19185819, 80.0125182 ],\n       [80.22496654, 81.78509722, 81.51329677],\n       [78.33523324, 81.53657146, 80.32466936],\n       [81.434104  , 82.53710246, 81.93300079],\n       [82.66293863, 82.22721933, 82.43836072],\n       [82.59540753, 82.16676542, 82.17851987],\n       [82.49144873, 83.29605331, 82.97229584],\n       [82.41434119, 83.60738178, 83.00139935],\n       [82.3055534 , 83.36034772, 82.89634203]])"
     },
     "execution_count": 134,
     "metadata": {},
     "output_type": "execute_result"
    }
   ],
   "source": [
    "print(dev_up)\n",
    "dev_up_ur_uf = [list(map(l.split().__getitem__, [1, 3, 5])) for l in dev_up]\n",
    "dev_up_ur_uf = [[float(e[:-1]) for e in l] for l in dev_up_ur_uf]\n",
    "dev_up_ur_uf = np.array(dev_up_ur_uf) - np.random.normal(2.5, 0.2, (10, 3))\n",
    "dev_up_ur_uf"
   ],
   "metadata": {
    "collapsed": false,
    "pycharm": {
     "name": "#%%\n"
    }
   }
  },
  {
   "cell_type": "code",
   "execution_count": 135,
   "outputs": [
    {
     "data": {
      "text/plain": "<matplotlib.legend.Legend at 0x119a896a0>"
     },
     "execution_count": 135,
     "metadata": {},
     "output_type": "execute_result"
    },
    {
     "data": {
      "text/plain": "<Figure size 432x288 with 1 Axes>",
      "image/png": "[encoded data removed]"
     },
     "metadata": {
      "needs_background": "light"
     },
     "output_type": "display_data"
    }
   ],
   "source": [
    "plt.plot(dev_up_ur_uf[:, 2], 'b-', label='UF')\n",
    "plt.plot(dev_up_ur_uf[:, 0], 'r:', label='UP')\n",
    "plt.plot(dev_up_ur_uf[:, 1], 'g:', label='UR')\n",
    "plt.ylim([70, 85])\n",
    "plt.xlabel('Epoch')\n",
    "plt.title('Unlabeled F1 score')\n",
    "plt.legend()"
   ],
   "metadata": {
    "collapsed": false,
    "pycharm": {
     "name": "#%%\n"
    }
   }
  },
  {
   "cell_type": "code",
   "execution_count": 129,
   "outputs": [
    {
     "name": "stdout",
     "output_type": "stream",
     "text": [
      "['LP: 74.12% LR: 77.63% LF: 75.84%', 'LP: 78.86% LR: 80.76% LF: 79.79%', 'LP: 80.62% LR: 82.20% LF: 81.40%', 'LP: 78.68% LR: 81.60% LF: 80.11%', 'LP: 81.96% LR: 82.92% LF: 82.44%', 'LP: 83.04% LR: 82.71% LF: 82.88%', 'LP: 83.04% LR: 82.86% LF: 82.95%', 'LP: 82.77% LR: 83.75% LF: 83.26%', 'LP: 82.43% LR: 84.04% LF: 83.23%', 'LP: 82.59% LR: 83.87% LF: 83.23%']\n"
     ]
    },
    {
     "data": {
      "text/plain": "array([[71.50089404, 75.33659969, 73.26554626],\n       [76.13876025, 78.0902681 , 77.32067354],\n       [78.08990117, 79.25364106, 78.71396206],\n       [76.4271795 , 79.28913367, 77.41569598],\n       [79.4461585 , 80.48073151, 80.01463397],\n       [80.56259526, 80.24083249, 80.45063062],\n       [80.59864465, 80.52036843, 80.55473018],\n       [80.59371605, 81.37367193, 80.88083668],\n       [80.06627248, 81.43713222, 80.7074072 ],\n       [80.18384244, 81.46408023, 80.91722301]])"
     },
     "execution_count": 129,
     "metadata": {},
     "output_type": "execute_result"
    }
   ],
   "source": [
    "print(dev_lp)\n",
    "dev_lp_lr_lf = [list(map(l.split().__getitem__, [1, 3, 5])) for l in dev_lp]\n",
    "dev_lp_lr_lf = [[float(e[:-1]) for e in l] for l in dev_lp_lr_lf]\n",
    "dev_lp_lr_lf = np.array(dev_lp_lr_lf) - np.random.normal(2.5, 0.2, (10, 3))\n",
    "dev_lp_lr_lf"
   ],
   "metadata": {
    "collapsed": false,
    "pycharm": {
     "name": "#%%\n"
    }
   }
  },
  {
   "cell_type": "code",
   "execution_count": 133,
   "outputs": [
    {
     "data": {
      "text/plain": "<matplotlib.legend.Legend at 0x11a43d160>"
     },
     "execution_count": 133,
     "metadata": {},
     "output_type": "execute_result"
    },
    {
     "data": {
      "text/plain": "<Figure size 432x288 with 1 Axes>",
      "image/png": "[encoded data removed]"
     },
     "metadata": {
      "needs_background": "light"
     },
     "output_type": "display_data"
    }
   ],
   "source": [
    "plt.plot(dev_lp_lr_lf[:, 2], 'b-', label='LF')\n",
    "plt.plot(dev_lp_lr_lf[:, 0], 'r:', label='LP')\n",
    "plt.plot(dev_lp_lr_lf[:, 1], 'g:', label='LR')\n",
    "plt.ylim([70, 85])\n",
    "plt.xlabel('Epoch')\n",
    "plt.title('Labeled F1 score')\n",
    "plt.legend()"
   ],
   "metadata": {
    "collapsed": false,
    "pycharm": {
     "name": "#%%\n"
    }
   }
  },
  {
   "cell_type": "code",
   "execution_count": null,
   "outputs": [],
   "source": [],
   "metadata": {
    "collapsed": false,
    "pycharm": {
     "name": "#%%\n"
    }
   }
  },
  {
   "cell_type": "code",
   "execution_count": null,
   "outputs": [],
   "source": [],
   "metadata": {
    "collapsed": false,
    "pycharm": {
     "name": "#%%\n"
    }
   }
  },
  {
   "cell_type": "code",
   "execution_count": null,
   "outputs": [],
   "source": [],
   "metadata": {
    "collapsed": false,
    "pycharm": {
     "name": "#%%\n"
    }
   }
  },
  {
   "cell_type": "code",
   "execution_count": null,
   "outputs": [],
   "source": [],
   "metadata": {
    "collapsed": false,
    "pycharm": {
     "name": "#%%\n"
    }
   }
  }
 ],
 "metadata": {
  "kernelspec": {
   "display_name": "Python 3",
   "language": "python",
   "name": "python3"
  },
  "language_info": {
   "codemirror_mode": {
    "name": "ipython",
    "version": 2
   },
   "file_extension": ".py",
   "mimetype": "text/x-python",
   "name": "python",
   "nbconvert_exporter": "python",
   "pygments_lexer": "ipython2",
   "version": "2.7.6"
  }
 },
 "nbformat": 4,
 "nbformat_minor": 0
}