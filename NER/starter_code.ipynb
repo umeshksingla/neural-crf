{
 "cells": [
  {
   "cell_type": "markdown",
   "metadata": {
    "id": "yHnbGR5wpCL8"
   },
   "source": [
    "# CSE 291 Assignment 2 BiLSTM CRF"
   ]
  },
  {
   "cell_type": "markdown",
   "metadata": {
    "id": "Rs2O4920pCob"
   },
   "source": [
    "## Download Data/Eval Script"
   ]
  },
  {
   "cell_type": "code",
   "execution_count": null,
   "metadata": {
    "id": "hmfarI0hpHj6"
   },
   "outputs": [],
   "source": [
    "# !wget https://raw.githubusercontent.com/sighsmile/conlleval/master/conlleval.py\n",
    "# !wget https://raw.githubusercontent.com/tberg12/cse291spr21/main/assignment2/train.data.quad\n",
    "# !wget https://raw.githubusercontent.com/tberg12/cse291spr21/main/assignment2/dev.data.quad"
   ]
  },
  {
   "cell_type": "code",
   "execution_count": 38,
   "metadata": {
    "id": "0CMvXrmwpNCM"
   },
   "outputs": [
    {
     "name": "stdout",
     "output_type": "stream",
     "text": [
      "cpu\n"
     ]
    }
   ],
   "source": [
    "import random\n",
    "\n",
    "import conlleval\n",
    "from tqdm import tqdm\n",
    "import numpy as np\n",
    "from collections import defaultdict, Counter\n",
    "import torch\n",
    "import torch.autograd as autograd\n",
    "import torch.nn as nn\n",
    "import torch.optim as optim\n",
    "from torchtext.vocab import vocab\n",
    "from torch.nn.utils.rnn import pack_padded_sequence, pad_packed_sequence\n",
    "\n",
    "torch.manual_seed(291)\n",
    "\n",
    "device = torch.device('cuda' if torch.cuda.is_available() else 'cpu')\n",
    "print(device)"
   ]
  },
  {
   "cell_type": "code",
   "execution_count": 67,
   "outputs": [],
   "source": [
    "import matplotlib.pyplot as plt"
   ],
   "metadata": {
    "collapsed": false,
    "pycharm": {
     "name": "#%%\n"
    }
   }
  },
  {
   "cell_type": "markdown",
   "metadata": {
    "id": "VOBmqHytpTGs"
   },
   "source": [
    "## Data Preparation"
   ]
  },
  {
   "cell_type": "code",
   "execution_count": 40,
   "metadata": {
    "id": "GKfmSZs8pPBV"
   },
   "outputs": [
    {
     "name": "stdout",
     "output_type": "stream",
     "text": [
      "Train word vocab: 3947 symbols.\n",
      "Train label vocab: 8 symbols: ['B-ORG', 'I-LOC', 'I-PER', 'O', 'I-MISC', 'B-LOC', 'B-MISC', 'I-ORG']\n",
      "Train data: 3420 sentences.\n",
      "Valid data: 800\n"
     ]
    }
   ],
   "source": [
    "TRAIN_DATA = 'train.data.quad'\n",
    "VALID_DATA = 'dev.data.quad'\n",
    "UNK = '<unk>'\n",
    "PAD = '<pad>'\n",
    "START_TAG = \"<start>\"  # you can add this explicitly or use it implicitly in your CRF layer\n",
    "STOP_TAG = \"<stop>\"    # you can add this explicitly or use it implicitly in your CRF layer\n",
    "\n",
    "\n",
    "def read_conll_sentence(path):\n",
    "    \"\"\" Read a CONLL-format sentence into vocab objects\n",
    "    Args:\n",
    "        :param path: path to CONLL-format data file\n",
    "        :param word_vocab: Vocabulary object for source\n",
    "        :param label_vocab: Vocabulary object for target\n",
    "    \"\"\"\n",
    "    sent = [[], []]\n",
    "    with open(path) as f:\n",
    "        for line in f:\n",
    "            line = line.strip().split()\n",
    "            if line:\n",
    "                # replace numbers with 0000\n",
    "                word = line[0]\n",
    "                word = '0000' if word.isnumeric() else word\n",
    "                sent[0].append(word)\n",
    "                sent[1].append(line[3])\n",
    "            else:\n",
    "                yield sent[0], sent[1]\n",
    "                sent = [[], []]\n",
    "\n",
    "\n",
    "def prepare_dataset(dataset, word_vocab, label_vocab):\n",
    "    word_vocab_stoi = word_vocab.get_stoi()\n",
    "    label_vocab_stoi = label_vocab.get_stoi()\n",
    "    dataset = [\n",
    "      [\n",
    "        torch.tensor([word_vocab_stoi.get(word,0) for word in sent[0]], dtype=torch.long),\n",
    "        torch.tensor([label_vocab_stoi[label] for label in sent[1]], dtype=torch.long),\n",
    "      ]\n",
    "      for sent in dataset\n",
    "    ]\n",
    "    random.shuffle(dataset)\n",
    "    return dataset\n",
    "\n",
    "\n",
    "# load a list of sentences, where each word in the list is a tuple containing the word and the label\n",
    "train_data = list(read_conll_sentence(TRAIN_DATA))\n",
    "train_word_counter = Counter([word for sent in train_data for word in sent[0]])\n",
    "train_label_counter = Counter([label for sent in train_data for label in sent[1]])\n",
    "word_vocab = vocab(train_word_counter, specials=(UNK, PAD), min_freq=2)\n",
    "# print(word_vocab.get_stoi())\n",
    "# word_vocab.set_default_index(UNK)\n",
    "\n",
    "label_vocab = vocab(train_label_counter, specials=(), min_freq=1)\n",
    "train_data = prepare_dataset(train_data, word_vocab, label_vocab)\n",
    "print('Train word vocab:', len(word_vocab), 'symbols.')\n",
    "print('Train label vocab:', len(label_vocab), f'symbols: {list(label_vocab.get_stoi().keys())}')\n",
    "\n",
    "valid_data = list(read_conll_sentence(VALID_DATA))\n",
    "valid_data = prepare_dataset(valid_data, word_vocab, label_vocab)\n",
    "print('Train data:', len(train_data), 'sentences.')\n",
    "print('Valid data:', len(valid_data))"
   ]
  },
  {
   "cell_type": "code",
   "execution_count": 43,
   "metadata": {
    "pycharm": {
     "name": "#%%\n"
    }
   },
   "outputs": [
    {
     "name": "stdout",
     "output_type": "stream",
     "text": [
      "\" There has been some shooting from their side but it has been relatively quiet , \" said <unk> <unk> <unk> , a <unk> man wearing a white <unk> and <unk> <unk> .\n",
      "O O O O O O O O O O O O O O O O O O O I-PER I-PER O O O O O O O O O O O O\n",
      "The <unk> were held in a house in or near Grozny which was <unk> <unk> .\n",
      "O O O O O O O O O O I-LOC O O O O O\n"
     ]
    }
   ],
   "source": [
    "print(' '.join([word_vocab.get_itos()[i.item()] for i in train_data[0][0]]))\n",
    "print(' '.join([label_vocab.get_itos()[i.item()] for i in train_data[0][1]]))\n",
    "\n",
    "print(' '.join([word_vocab.get_itos()[i.item()] for i in valid_data[1][0]]))\n",
    "print(' '.join([label_vocab.get_itos()[i.item()] for i in valid_data[1][1]]))"
   ]
  },
  {
   "cell_type": "code",
   "execution_count": 44,
   "metadata": {
    "pycharm": {
     "name": "#%%\n"
    }
   },
   "outputs": [
    {
     "data": {
      "text/plain": "(Vocab(), tensor([77]), tensor([1]))"
     },
     "execution_count": 44,
     "metadata": {},
     "output_type": "execute_result"
    }
   ],
   "source": [
    "label_vocab, train_data[6][0], train_data[6][1]"
   ]
  },
  {
   "cell_type": "markdown",
   "metadata": {
    "id": "xNNmZx_Uqy7q"
   },
   "source": [
    "## BiLSTMTagger"
   ]
  },
  {
   "cell_type": "code",
   "execution_count": 95,
   "metadata": {
    "id": "a5nVIM_Eq1ZU"
   },
   "outputs": [],
   "source": [
    "# Starter code implementing a BiLSTM Tagger\n",
    "# which makes locally normalized, independent\n",
    "# tag classifications at each time step\n",
    "\n",
    "class BiLSTMTagger(nn.Module):\n",
    "    def __init__(self, vocab_size, tag_vocab_size, embedding_dim, hidden_dim, dropout=0.3):\n",
    "        super(BiLSTMTagger, self).__init__()\n",
    "        self.embedding_dim = embedding_dim\n",
    "        self.hidden_dim = hidden_dim\n",
    "        self.vocab_size = vocab_size\n",
    "        self.tagset_size = tag_vocab_size\n",
    "        self.word_embeds = nn.Embedding(vocab_size, embedding_dim).to(device)\n",
    "        self.bilstm = nn.LSTM(embedding_dim, hidden_dim // 2,\n",
    "                            num_layers=1, bidirectional=True, batch_first=True).to(device)\n",
    "        self.tag_projection_layer = nn.Linear(hidden_dim, self.tagset_size).to(device)\n",
    "        # ^ linear layer otherwise known as output embedding layer, which has the dimension same as the number of tags\n",
    "        # Each entry (which is a logit f) in self.tag_projection_layer is how much does the tagger model like particular tag at particular position without worrying about converting to probabilities\n",
    "        # To get probabilities, you do softmax, but we actually don't need to do it since argmax will give the same answer\n",
    "        # pytorch cross entropy functional does the whole thing with the logits by itself anyway, -ve log prob etc.\n",
    "        self.dropout = nn.Dropout(p=dropout)\n",
    "\n",
    "    def init_hidden(self):\n",
    "        return (torch.randn(2, 1, self.hidden_dim // 2).to(device),\n",
    "                torch.randn(2, 1, self.hidden_dim // 2).to(device))\n",
    "\n",
    "    def compute_lstm_emission_features(self, sentence):\n",
    "        hidden = self.init_hidden()\n",
    "        embeds = self.dropout(self.word_embeds(sentence))\n",
    "        bilstm_out, hidden = self.bilstm(embeds, hidden)\n",
    "        bilstm_out = self.dropout(bilstm_out)\n",
    "        bilstm_f_logits = self.tag_projection_layer(bilstm_out)\n",
    "        return bilstm_f_logits\n",
    "\n",
    "    def forward(self, sentence):\n",
    "        # Only used during inference i.e. in evaluate function, not loss calculation.\n",
    "        # It is giving the score (max) of the predicted sequence and the predicted sequence (argmax).\n",
    "        bilstm_f_logits = self.compute_lstm_emission_features(sentence)\n",
    "        score, tagseq = bilstm_f_logits.max(-1)[0].sum(), bilstm_f_logits.argmax(-1)\n",
    "        return score, tagseq\n",
    "\n",
    "    def loss(self, sentence, tags):\n",
    "        # Loss function for training\n",
    "        # print(\"sentence\", sentence)\n",
    "        bilstm_f_logits = self.compute_lstm_emission_features(sentence)\n",
    "        # print(\"bilstm_feats\", bilstm_f_logits, bilstm_f_logits.view(-1, self.tagset_size))\n",
    "        # print(\"tags\", tags, tags.view(-1))\n",
    "        # transform predictions to (n_examples, n_classes) and ground truth to (n_examples)\n",
    "        loss =  torch.nn.functional.cross_entropy(\n",
    "              bilstm_f_logits.view(-1, self.tagset_size),  # n_words_in_sentence x n_tags\n",
    "              tags.view(-1), # correct tag\n",
    "              reduction='sum' # add for all words in the sentence\n",
    "            )\n",
    "        return loss"
   ]
  },
  {
   "cell_type": "markdown",
   "source": [
    "## Train / Eval loop"
   ],
   "metadata": {
    "collapsed": false
   }
  },
  {
   "cell_type": "code",
   "execution_count": 96,
   "metadata": {
    "id": "Gw2He2cgrrF1"
   },
   "outputs": [],
   "source": [
    "def train(model, train_data, valid_data, word_vocab, label_vocab, epochs, log_interval=25):\n",
    "    train_losses_per_epoch = []\n",
    "    mean_train_losses_per_epoch = []\n",
    "    mean_valid_losses_per_epoch = []\n",
    "    valid_eval_results = []\n",
    "    label_vocab_itos = label_vocab.get_itos()\n",
    "    word_vocab_itos = word_vocab.get_itos()\n",
    "    for epoch in range(epochs):\n",
    "        print(f'\\n--- EPOCH {epoch} ---')\n",
    "        model.train()\n",
    "        train_losses_per_epoch.append([])\n",
    "        c = 100\n",
    "        for i, (sent, tags) in enumerate(train_data):\n",
    "            # print(\"sent, tags\", sent, tags)\n",
    "            model.zero_grad() # set prev gradients to 0\n",
    "            sent, tags = sent.to(device), tags.to(device)\n",
    "            sent = sent.unsqueeze(0)\n",
    "            tags = tags.unsqueeze(0)\n",
    "            # print(sent, [word_vocab_itos[i] for i in sent[0]])\n",
    "            # print(sent, [label_vocab_itos[i] for i in tags[0]])\n",
    "            # print(\"unsq\", sent, tags)\n",
    "            # print(\"len input\", len(sent[0]))\n",
    "            loss = model.loss(sent, tags[0])\n",
    "            loss.backward()\n",
    "            optimizer.step()\n",
    "            train_losses_per_epoch[-1].append(loss.detach().cpu().item())\n",
    "            if i > 0 and i % log_interval == 0:\n",
    "                mean_loss = np.mean(train_losses_per_epoch[-1][-log_interval:])\n",
    "                print(f'Avg loss over last {log_interval} updates: {mean_loss}')\n",
    "            if not c: break\n",
    "            # c -= 1\n",
    "        mean_valid_loss, eval_result = evaluate(model, valid_data, word_vocab, label_vocab, log_interval)\n",
    "        mean_valid_losses_per_epoch.append(mean_valid_loss)\n",
    "        mean_train_losses_per_epoch.append(np.mean(train_losses_per_epoch[-1]))\n",
    "        valid_eval_results.append(eval_result)\n",
    "    return mean_train_losses_per_epoch, train_losses_per_epoch, mean_valid_losses_per_epoch, valid_eval_results\n",
    "\n",
    "\n",
    "def evaluate(model, dataset, word_vocab, label_vocab, log_interval):\n",
    "    print(\"evaluating..\")\n",
    "    model.eval()\n",
    "    losses = []\n",
    "    scores = []\n",
    "    true_tags = []\n",
    "    pred_tags = []\n",
    "    sents = []\n",
    "    label_vocab_itos = label_vocab.get_itos()\n",
    "    word_vocab_itos = word_vocab.get_itos()\n",
    "    c = 100\n",
    "    for i, (sent, tags) in enumerate(dataset):\n",
    "        with torch.no_grad():\n",
    "            # print(\"sent, tags\", sent, tags)\n",
    "            sent, tags = sent.to(device), tags.to(device)\n",
    "            sent = sent.unsqueeze(0)\n",
    "            tags = tags.unsqueeze(0)\n",
    "            # print(sent, [word_vocab_itos[i] for i in sent[0]])\n",
    "            # print(tags, [label_vocab_itos[i] for i in tags[0]])\n",
    "            this_loss = model.loss(sent, tags[0]).cpu().detach().item()\n",
    "            # print(\"this_loss\", this_loss)\n",
    "            losses.append(this_loss)\n",
    "            score, pred_tag_seq = model(sent)\n",
    "            scores.append(score.cpu().detach().numpy())\n",
    "            true_tags.append([label_vocab_itos[i] for i in tags.tolist()[0]])\n",
    "            pred_tags.append([label_vocab_itos[i] for i in pred_tag_seq[0]])\n",
    "            sents.append([word_vocab_itos[i] for i in sent[0]])\n",
    "        if i > 0 and i%log_interval == 0:\n",
    "            print(\"Evaluated\", i)\n",
    "        if not c: break\n",
    "        # c -= 1\n",
    "\n",
    "    mean_valid_loss = np.mean(losses)\n",
    "    print('Avg evaluation loss:', mean_valid_loss)\n",
    "    eval_result = conlleval.evaluate([tag for tags in true_tags for tag in tags], [tag for tags in pred_tags for tag in tags], verbose=True)\n",
    "    # print()\n",
    "    k=2\n",
    "    print(f'\\n{k} random evaluation samples:')\n",
    "    for i in np.random.randint(0, len(sents), size=k):\n",
    "        print('SENT:', ' '.join(sents[i]))\n",
    "        print('TRUE:', ' '.join(true_tags[i]))\n",
    "        print('PRED:', ' '.join(pred_tags[i]))\n",
    "    return mean_valid_loss, eval_result"
   ]
  },
  {
   "cell_type": "code",
   "execution_count": null,
   "outputs": [],
   "source": [],
   "metadata": {
    "collapsed": false,
    "pycharm": {
     "name": "#%%\n"
    }
   }
  },
  {
   "cell_type": "markdown",
   "metadata": {
    "id": "TdJsc_y6rxdC"
   },
   "source": [
    "## Training"
   ]
  },
  {
   "cell_type": "code",
   "execution_count": 97,
   "metadata": {
    "id": "nVyfoJfZry4-",
    "pycharm": {
     "name": "#%%\n"
    }
   },
   "outputs": [
    {
     "name": "stdout",
     "output_type": "stream",
     "text": [
      "\n",
      "--- EPOCH 0 ---\n",
      "Avg loss over last 500 updates: 8.946532606005668\n",
      "Avg loss over last 500 updates: 6.682028229528107\n",
      "Avg loss over last 500 updates: 6.258443628089503\n",
      "Avg loss over last 500 updates: 6.598942492638249\n",
      "Avg loss over last 500 updates: 5.418072278042324\n",
      "Avg loss over last 500 updates: 5.597928476557951\n",
      "evaluating..\n",
      "Evaluated 500\n",
      "Avg evaluation loss:\n",
      "processed 11170 tokens with 1231 phrases; found: 680 phrases; correct: 439.\n",
      "accuracy:  40.14%; (non-O)\n",
      "accuracy:  89.56%; precision:  64.56%; recall:  35.66%; FB1:  45.94\n",
      "              LOC: precision:  79.03%; recall:  40.16%; FB1:  53.26  186\n",
      "             MISC: precision:  55.41%; recall:  21.47%; FB1:  30.94  74\n",
      "              ORG: precision:  59.68%; recall:  36.27%; FB1:  45.12  186\n",
      "              PER: precision:  59.83%; recall:  38.04%; FB1:  46.51  234\n",
      "\n",
      "2 random evaluation samples:\n",
      "SENT: Britain 's <unk> <unk> said on Wednesday he might change his <unk> and go for a fifth consecutive Olympic gold <unk> at the 0000 Games in Sydney .\n",
      "TRUE: I-LOC O I-PER I-PER O O O O O O O O O O O O O O I-MISC O O O O I-ORG I-ORG O I-LOC O\n",
      "PRED: I-LOC O I-PER I-PER O O O O O O O O O O O O O O O O O O O O O O O O\n",
      "SENT: Under the revised <unk> state spending is expected to rise by some 0000 billion lei .\n",
      "TRUE: O O O O O O O O O O O O O O O O\n",
      "PRED: O O O O O O O O O O O O O O O O\n",
      "\n",
      "--- EPOCH 1 ---\n",
      "Avg loss over last 500 updates: 4.547968790586572\n",
      "Avg loss over last 500 updates: 3.8278808039199794\n",
      "Avg loss over last 500 updates: 4.071799355282478\n",
      "Avg loss over last 500 updates: 4.538093603265938\n",
      "Avg loss over last 500 updates: 3.728985987277898\n",
      "Avg loss over last 500 updates: 3.8620247198021387\n",
      "evaluating..\n",
      "Evaluated 500\n",
      "Avg evaluation loss:\n",
      "processed 11170 tokens with 1231 phrases; found: 951 phrases; correct: 629.\n",
      "accuracy:  56.99%; (non-O)\n",
      "accuracy:  91.75%; precision:  66.14%; recall:  51.10%; FB1:  57.65\n",
      "              LOC: precision:  81.92%; recall:  58.20%; FB1:  68.05  260\n",
      "             MISC: precision:  68.10%; recall:  41.36%; FB1:  51.47  116\n",
      "              ORG: precision:  53.57%; recall:  44.12%; FB1:  48.39  252\n",
      "              PER: precision:  62.54%; recall:  54.89%; FB1:  58.47  323\n",
      "\n",
      "2 random evaluation samples:\n",
      "SENT: Queens Park Rangers 0000 0000 0000 0000 0000 0000 0000\n",
      "TRUE: I-ORG I-ORG I-ORG O O O O O O O\n",
      "PRED: I-ORG I-ORG I-ORG O O O O O O O\n",
      "SENT: Syria : 0000 - <unk> Bitar , 0000 - <unk> <unk> ; 0000 - <unk> <unk> , 0000 - <unk> <unk> , 0000 - <unk> <unk> ( 0000 - <unk> <unk> 0000 ) , 0000 - <unk> <unk> , 0000 - <unk> <unk> , 0000 - Ali <unk> , 0000 - <unk> <unk> <unk> ( 0000 - <unk> <unk> 0000 ) , 0000 - <unk> <unk> ; 0000 - <unk> <unk> .\n",
      "TRUE: I-LOC O O O I-PER I-PER O O O I-PER I-PER O O O I-PER I-PER O O O I-PER I-PER O O O I-PER I-PER O O O I-PER I-PER O O O O O I-PER I-PER O O O I-PER I-PER O O O I-PER I-PER O O O I-PER I-PER I-PER O O O I-PER I-PER O O O O O I-PER I-PER O O O I-PER I-PER O\n",
      "PRED: I-LOC O O O I-PER I-PER O O O I-PER I-PER O O O I-PER I-PER O O O I-PER I-PER O O O I-PER I-PER O O O I-PER I-PER O O O O O I-PER I-PER O O O I-PER I-PER O O O I-PER I-PER O O O I-PER I-PER I-PER O O O I-PER I-PER O O O O O I-PER I-PER O O O I-PER I-PER O\n",
      "\n",
      "--- EPOCH 2 ---\n",
      "Avg loss over last 500 updates: 3.3648998076842735\n",
      "Avg loss over last 500 updates: 2.7021610646699474\n",
      "Avg loss over last 500 updates: 3.0495906081416146\n",
      "Avg loss over last 500 updates: 3.3617124318356573\n",
      "Avg loss over last 500 updates: 2.902706972761147\n",
      "Avg loss over last 500 updates: 2.864694977730056\n",
      "evaluating..\n",
      "Evaluated 500\n",
      "Avg evaluation loss:\n",
      "processed 11170 tokens with 1231 phrases; found: 1017 phrases; correct: 705.\n",
      "accuracy:  62.67%; (non-O)\n",
      "accuracy:  92.79%; precision:  69.32%; recall:  57.27%; FB1:  62.72\n",
      "              LOC: precision:  85.46%; recall:  65.85%; FB1:  74.38  282\n",
      "             MISC: precision:  69.70%; recall:  48.17%; FB1:  56.97  132\n",
      "              ORG: precision:  50.52%; recall:  48.04%; FB1:  49.25  291\n",
      "              PER: precision:  72.12%; recall:  61.14%; FB1:  66.18  312\n",
      "\n",
      "2 random evaluation samples:\n",
      "SENT: <unk> <unk> ( Romania ) beat <unk> <unk> ( Germany ) 6-3 6-2\n",
      "TRUE: I-PER I-PER O I-LOC O O I-PER I-PER O I-LOC O O O\n",
      "PRED: I-PER I-PER O I-LOC O O I-PER I-PER O I-LOC O O O\n",
      "SENT: - <unk> <unk> up <unk>\n",
      "TRUE: O I-LOC O O O\n",
      "PRED: O O O O O\n",
      "\n",
      "--- EPOCH 3 ---\n",
      "Avg loss over last 500 updates: 2.7218367280676468\n",
      "Avg loss over last 500 updates: 2.1409062079542136\n",
      "Avg loss over last 500 updates: 2.465773414520769\n",
      "Avg loss over last 500 updates: 2.6662415011710157\n",
      "Avg loss over last 500 updates: 2.2620313583662286\n",
      "Avg loss over last 500 updates: 2.230199860518736\n",
      "evaluating..\n",
      "Evaluated 500\n",
      "Avg evaluation loss:\n",
      "processed 11170 tokens with 1231 phrases; found: 1073 phrases; correct: 758.\n",
      "accuracy:  67.40%; (non-O)\n",
      "accuracy:  93.55%; precision:  70.64%; recall:  61.58%; FB1:  65.80\n",
      "              LOC: precision:  85.37%; recall:  68.58%; FB1:  76.06  294\n",
      "             MISC: precision:  77.17%; recall:  51.31%; FB1:  61.64  127\n",
      "              ORG: precision:  53.27%; recall:  55.88%; FB1:  54.55  321\n",
      "              PER: precision:  71.90%; recall:  64.67%; FB1:  68.10  331\n",
      "\n",
      "2 random evaluation samples:\n",
      "SENT: 9. Britain I ( <unk> <unk> , <unk> <unk> ) <unk> ( <unk>\n",
      "TRUE: O I-ORG I-ORG O I-PER I-PER O I-PER I-PER O O O O\n",
      "PRED: O I-LOC O O O O O I-PER O O O O O\n",
      "SENT: -DOCSTART-\n",
      "TRUE: O\n",
      "PRED: O\n",
      "\n",
      "--- EPOCH 4 ---\n",
      "Avg loss over last 500 updates: 2.2294235534795512\n",
      "Avg loss over last 500 updates: 1.8310390317207121\n",
      "Avg loss over last 500 updates: 2.020999692886542\n",
      "Avg loss over last 500 updates: 2.29826263255817\n",
      "Avg loss over last 500 updates: 1.9581085832117147\n",
      "Avg loss over last 500 updates: 1.925759558083918\n",
      "evaluating..\n",
      "Evaluated 500\n",
      "Avg evaluation loss:\n",
      "processed 11170 tokens with 1231 phrases; found: 1117 phrases; correct: 796.\n",
      "accuracy:  70.15%; (non-O)\n",
      "accuracy:  93.76%; precision:  71.26%; recall:  64.66%; FB1:  67.80\n",
      "              LOC: precision:  85.53%; recall:  72.68%; FB1:  78.58  311\n",
      "             MISC: precision:  80.77%; recall:  54.97%; FB1:  65.42  130\n",
      "              ORG: precision:  56.03%; recall:  56.21%; FB1:  56.12  307\n",
      "              PER: precision:  68.56%; recall:  68.75%; FB1:  68.66  369\n",
      "\n",
      "2 random evaluation samples:\n",
      "SENT: RTRS - <unk> <unk> net profit A$ <unk> mln .\n",
      "TRUE: I-ORG O I-ORG I-ORG O O I-MISC O O O\n",
      "PRED: I-ORG O I-ORG O O O I-MISC O O O\n",
      "SENT: They said a fire broke out at <unk> <unk> in the early hours on Saturday in <unk> village , five km ( three miles ) west of the capital <unk> .\n",
      "TRUE: O O O O O O O I-LOC O O O O O O O O I-LOC O O O O O O O O O O O O I-LOC O\n",
      "PRED: O O O O O O O O O O O O O O O O O O O O O O O O O O O O O I-LOC O\n",
      "\n",
      "--- EPOCH 5 ---\n",
      "Avg loss over last 500 updates: 1.8384241561499843\n",
      "Avg loss over last 500 updates: 1.625998300083495\n",
      "Avg loss over last 500 updates: 1.7610205782002026\n",
      "Avg loss over last 500 updates: 1.9021334500479865\n",
      "Avg loss over last 500 updates: 1.7675538937901771\n",
      "Avg loss over last 500 updates: 1.7393803372558467\n",
      "evaluating..\n",
      "Evaluated 500\n",
      "Avg evaluation loss:\n",
      "processed 11170 tokens with 1231 phrases; found: 1048 phrases; correct: 780.\n",
      "accuracy:  68.56%; (non-O)\n",
      "accuracy:  93.93%; precision:  74.43%; recall:  63.36%; FB1:  68.45\n",
      "              LOC: precision:  88.03%; recall:  74.32%; FB1:  80.59  309\n",
      "             MISC: precision:  74.29%; recall:  54.45%; FB1:  62.84  140\n",
      "              ORG: precision:  62.31%; recall:  54.58%; FB1:  58.19  268\n",
      "              PER: precision:  71.60%; recall:  64.40%; FB1:  67.81  331\n",
      "\n",
      "2 random evaluation samples:\n",
      "SENT: Philippoussis <unk> a match point at <unk> in the <unk> tie break before winning 6-3 3-6 7-6 ( 8-6 ) .\n",
      "TRUE: I-PER O O O O O O O O O O O O O O O O O O O O\n",
      "PRED: I-PER O O O O O O O O O O O O O O O O O O O O\n",
      "SENT: SOCCER - <unk> FIRST DIVISION SUMMARY .\n",
      "TRUE: O O I-MISC O O O O\n",
      "PRED: O O O O O O O\n",
      "\n",
      "--- EPOCH 6 ---\n",
      "Avg loss over last 500 updates: 1.773745039275869\n",
      "Avg loss over last 500 updates: 1.4696737644367748\n",
      "Avg loss over last 500 updates: 1.6606768014089162\n",
      "Avg loss over last 500 updates: 1.7304393843935335\n",
      "Avg loss over last 500 updates: 1.5362326350773403\n",
      "Avg loss over last 500 updates: 1.471333554521047\n",
      "evaluating..\n",
      "Evaluated 500\n",
      "Avg evaluation loss:\n",
      "processed 11170 tokens with 1231 phrases; found: 1132 phrases; correct: 798.\n",
      "accuracy:  70.93%; (non-O)\n",
      "accuracy:  93.85%; precision:  70.49%; recall:  64.83%; FB1:  67.54\n",
      "              LOC: precision:  85.03%; recall:  72.95%; FB1:  78.53  314\n",
      "             MISC: precision:  75.94%; recall:  52.88%; FB1:  62.35  133\n",
      "              ORG: precision:  53.35%; recall:  57.19%; FB1:  55.21  328\n",
      "              PER: precision:  71.43%; recall:  69.29%; FB1:  70.34  357\n",
      "\n",
      "2 random evaluation samples:\n",
      "SENT: Both <unk> were in the <unk> <unk> region of <unk> , about 0000 miles ( 0000 <unk> ) southeast of <unk> <unk> , and were located within three miles of one another .\n",
      "TRUE: O O O O O I-LOC O O O I-LOC O O O O O O O O O O I-LOC I-LOC O O O O O O O O O O O\n",
      "PRED: O O O O O O O O O I-LOC O O O O O O O O O O I-ORG O O O O O O O O O O O O\n",
      "SENT: <unk> <unk> , 0000 , was picked up from a <unk> <unk> a week ago by <unk> who took <unk> on him and <unk> him to <unk> <unk> ( <unk> <unk> ) .\n",
      "TRUE: I-PER I-PER O O O O O O O O I-LOC O O O O O O O O O O O O O O O I-LOC I-LOC O O O O O\n",
      "PRED: I-PER I-PER O O O O O O O O O O O O O O O O O O O O O O O O I-PER I-PER O O O O O\n",
      "\n",
      "--- EPOCH 7 ---\n",
      "Avg loss over last 500 updates: 1.5551299569126513\n",
      "Avg loss over last 500 updates: 1.2458401552043463\n",
      "Avg loss over last 500 updates: 1.3921755111556413\n",
      "Avg loss over last 500 updates: 1.502486108755938\n",
      "Avg loss over last 500 updates: 1.4376767704585232\n",
      "Avg loss over last 500 updates: 1.3508513340247652\n",
      "evaluating..\n",
      "Evaluated 500\n",
      "Avg evaluation loss:\n",
      "processed 11170 tokens with 1231 phrases; found: 1133 phrases; correct: 826.\n",
      "accuracy:  72.25%; (non-O)\n",
      "accuracy:  94.17%; precision:  72.90%; recall:  67.10%; FB1:  69.88\n",
      "              LOC: precision:  84.80%; recall:  76.23%; FB1:  80.29  329\n",
      "             MISC: precision:  77.04%; recall:  54.45%; FB1:  63.80  135\n",
      "              ORG: precision:  61.00%; recall:  59.80%; FB1:  60.40  300\n",
      "              PER: precision:  70.46%; recall:  70.65%; FB1:  70.56  369\n",
      "\n",
      "2 random evaluation samples:\n",
      "SENT: No arrests had been made , a police spokesman said .\n",
      "TRUE: O O O O O O O O O O O\n",
      "PRED: O O O O O O O O O O O\n",
      "SENT: The <unk> Woods , who turned <unk> Tuesday after winning an <unk> third successive U.S. <unk> <unk> , <unk> on the front nine , <unk> the first and seventh <unk> and <unk> the <unk> , <unk> ninth <unk> .\n",
      "TRUE: O O I-PER O O O O O O O O O O O I-MISC I-MISC I-MISC O O O O O O O O O O O O O O O O O O O O O O\n",
      "PRED: O O I-PER O O O O O O O O O O O I-LOC O O O O O O O O O O O O O O O O O O O O I-ORG O O O\n",
      "\n",
      "--- EPOCH 8 ---\n",
      "Avg loss over last 500 updates: 1.4942082159289634\n",
      "Avg loss over last 500 updates: 1.155788527485318\n",
      "Avg loss over last 500 updates: 1.2449632696857136\n",
      "Avg loss over last 500 updates: 1.405711837072949\n",
      "Avg loss over last 500 updates: 1.3132949406641987\n",
      "Avg loss over last 500 updates: 1.2513363432160642\n",
      "evaluating..\n",
      "Evaluated 500\n",
      "Avg evaluation loss:\n",
      "processed 11170 tokens with 1231 phrases; found: 1134 phrases; correct: 824.\n",
      "accuracy:  72.41%; (non-O)\n",
      "accuracy:  94.05%; precision:  72.66%; recall:  66.94%; FB1:  69.68\n",
      "              LOC: precision:  85.63%; recall:  78.14%; FB1:  81.71  334\n",
      "             MISC: precision:  78.83%; recall:  56.54%; FB1:  65.85  137\n",
      "              ORG: precision:  56.74%; recall:  59.15%; FB1:  57.92  319\n",
      "              PER: precision:  72.38%; recall:  67.66%; FB1:  69.94  344\n",
      "\n",
      "2 random evaluation samples:\n",
      "SENT: Some <unk> <unk> <unk> <unk> they can actually <unk> to such a point that they fly .\n",
      "TRUE: O O I-MISC O O O O O O O O O O O O O O\n",
      "PRED: O O O O O O O O O O O O O O O O O\n",
      "SENT: <unk> said <unk> the meeting carried <unk> for Singapore , \" however , this is <unk> <unk> as the <unk> <unk> may not <unk> lead to any additional investment and trade <unk> to this region . \"\n",
      "TRUE: I-PER O O O O O O O I-LOC O O O O O O O O O O O O O O O O O O O O O O O O O O O O\n",
      "PRED: I-PER O O O O O O O I-LOC O O O O O O O O O O O O O O O O O O O O O O O O O O O O\n",
      "\n",
      "--- EPOCH 9 ---\n",
      "Avg loss over last 500 updates: 1.282147759186722\n",
      "Avg loss over last 500 updates: 1.0984208296835118\n",
      "Avg loss over last 500 updates: 1.1691603585461852\n",
      "Avg loss over last 500 updates: 1.295657081229002\n",
      "Avg loss over last 500 updates: 1.2819848769088154\n",
      "Avg loss over last 500 updates: 1.043497032045068\n",
      "evaluating..\n",
      "Evaluated 500\n",
      "Avg evaluation loss:\n",
      "processed 11170 tokens with 1231 phrases; found: 1123 phrases; correct: 845.\n",
      "accuracy:  72.96%; (non-O)\n",
      "accuracy:  94.42%; precision:  75.24%; recall:  68.64%; FB1:  71.79\n",
      "              LOC: precision:  85.46%; recall:  78.69%; FB1:  81.93  337\n",
      "             MISC: precision:  75.69%; recall:  57.07%; FB1:  65.07  144\n",
      "              ORG: precision:  64.62%; recall:  58.50%; FB1:  61.41  277\n",
      "              PER: precision:  73.70%; recall:  73.10%; FB1:  73.40  365\n",
      "\n",
      "2 random evaluation samples:\n",
      "SENT: -DOCSTART-\n",
      "TRUE: O\n",
      "PRED: O\n",
      "SENT: -DOCSTART-\n",
      "TRUE: O\n",
      "PRED: O\n",
      "\n",
      "--- EPOCH 10 ---\n",
      "Avg loss over last 500 updates: 1.2224754744473696\n",
      "Avg loss over last 500 updates: 1.0262930272567996\n",
      "Avg loss over last 500 updates: 1.0874829065493847\n",
      "Avg loss over last 500 updates: 1.1594098101335664\n",
      "Avg loss over last 500 updates: 1.0902178913359206\n",
      "Avg loss over last 500 updates: 1.0603319962520663\n",
      "evaluating..\n",
      "Evaluated 500\n",
      "Avg evaluation loss:\n",
      "processed 11170 tokens with 1231 phrases; found: 1155 phrases; correct: 839.\n",
      "accuracy:  73.46%; (non-O)\n",
      "accuracy:  94.27%; precision:  72.64%; recall:  68.16%; FB1:  70.33\n",
      "              LOC: precision:  84.06%; recall:  79.23%; FB1:  81.58  345\n",
      "             MISC: precision:  71.22%; recall:  51.83%; FB1:  60.00  139\n",
      "              ORG: precision:  58.54%; recall:  60.46%; FB1:  59.49  316\n",
      "              PER: precision:  74.65%; recall:  72.01%; FB1:  73.31  355\n",
      "\n",
      "2 random evaluation samples:\n",
      "SENT: -DOCSTART-\n",
      "TRUE: O\n",
      "PRED: O\n",
      "SENT: It could be one of the most <unk> rounds of <unk> ever .\n",
      "TRUE: O O O O O O O O O O O O O\n",
      "PRED: O O O O O O O O O O O O O\n",
      "\n",
      "--- EPOCH 11 ---\n",
      "Avg loss over last 500 updates: 1.1308482498055838\n",
      "Avg loss over last 500 updates: 0.9036737404304672\n",
      "Avg loss over last 500 updates: 1.0099785736561837\n",
      "Avg loss over last 500 updates: 1.1256515852132356\n",
      "Avg loss over last 500 updates: 0.9736335852915893\n",
      "Avg loss over last 500 updates: 1.0035831917372051\n",
      "evaluating..\n",
      "Evaluated 500\n",
      "Avg evaluation loss:\n",
      "processed 11170 tokens with 1231 phrases; found: 1167 phrases; correct: 853.\n",
      "accuracy:  73.68%; (non-O)\n",
      "accuracy:  94.35%; precision:  73.09%; recall:  69.29%; FB1:  71.14\n",
      "              LOC: precision:  86.18%; recall:  80.05%; FB1:  83.00  340\n",
      "             MISC: precision:  75.00%; recall:  56.54%; FB1:  64.48  144\n",
      "              ORG: precision:  59.87%; recall:  59.48%; FB1:  59.67  304\n",
      "              PER: precision:  71.24%; recall:  73.37%; FB1:  72.29  379\n",
      "\n",
      "2 random evaluation samples:\n",
      "SENT: <unk> - <unk> Ukraine faces <unk> of cash and rain .\n",
      "TRUE: O O O I-LOC O O O O O O O\n",
      "PRED: O O I-MISC I-LOC O O O O O O O\n",
      "SENT: Suu Kyi , who <unk> a campaign for sanctions on <unk> 's government , was under house arrest for six years without being tried before being released in July 0000 .\n",
      "TRUE: I-PER I-PER O O O O O O O O I-LOC O O O O O O O O O O O O O O O O O O O O\n",
      "PRED: I-PER I-PER O O O O O O O O I-PER O O O O O O O O O O O O O O O O O O O O\n",
      "\n",
      "--- EPOCH 12 ---\n",
      "Avg loss over last 500 updates: 1.0406516526998726\n",
      "Avg loss over last 500 updates: 0.8470637610749107\n",
      "Avg loss over last 500 updates: 0.9484881574329703\n",
      "Avg loss over last 500 updates: 1.0746916488331648\n",
      "Avg loss over last 500 updates: 0.9923730732569843\n",
      "Avg loss over last 500 updates: 0.7965126163519777\n",
      "evaluating..\n",
      "Evaluated 500\n",
      "Avg evaluation loss:\n",
      "processed 11170 tokens with 1231 phrases; found: 1161 phrases; correct: 854.\n",
      "accuracy:  74.06%; (non-O)\n",
      "accuracy:  94.36%; precision:  73.56%; recall:  69.37%; FB1:  71.40\n",
      "              LOC: precision:  84.75%; recall:  78.96%; FB1:  81.75  341\n",
      "             MISC: precision:  76.19%; recall:  58.64%; FB1:  66.27  147\n",
      "              ORG: precision:  62.62%; recall:  62.42%; FB1:  62.52  305\n",
      "              PER: precision:  71.20%; recall:  71.20%; FB1:  71.20  368\n",
      "\n",
      "2 random evaluation samples:\n",
      "SENT: But <unk> <unk> , one of the refugees who signed the letter of <unk> , told Reuters :\n",
      "TRUE: O I-PER I-PER O O O O O O O O O O O O O I-ORG O\n",
      "PRED: O I-MISC O O O O O O O O O O O I-LOC O O I-ORG O\n",
      "SENT: One of the great <unk> who <unk> over a period of English <unk> in Europe in politics and the <unk> .\n",
      "TRUE: O O O O O O O O O O O I-MISC O O I-LOC O O O O O O\n",
      "PRED: O O O O O O O O O O O I-MISC I-MISC O I-LOC O O O O I-LOC O\n",
      "\n",
      "--- EPOCH 13 ---\n",
      "Avg loss over last 500 updates: 1.0228274855595358\n",
      "Avg loss over last 500 updates: 0.8073219516770515\n",
      "Avg loss over last 500 updates: 0.8385460885869114\n",
      "Avg loss over last 500 updates: 0.9778256040808848\n",
      "Avg loss over last 500 updates: 0.9025562507424277\n",
      "Avg loss over last 500 updates: 0.8343701219654537\n",
      "evaluating..\n",
      "Evaluated 500\n",
      "Avg evaluation loss:\n",
      "processed 11170 tokens with 1231 phrases; found: 1178 phrases; correct: 857.\n",
      "accuracy:  73.90%; (non-O)\n",
      "accuracy:  94.31%; precision:  72.75%; recall:  69.62%; FB1:  71.15\n",
      "              LOC: precision:  83.52%; recall:  81.69%; FB1:  82.60  358\n",
      "             MISC: precision:  71.33%; recall:  56.02%; FB1:  62.76  150\n",
      "              ORG: precision:  63.85%; recall:  61.76%; FB1:  62.79  296\n",
      "              PER: precision:  70.05%; recall:  71.20%; FB1:  70.62  374\n",
      "\n",
      "2 random evaluation samples:\n",
      "SENT: HONG KONG 1996-08-29\n",
      "TRUE: I-LOC I-LOC O\n",
      "PRED: I-LOC I-LOC O\n",
      "SENT: <unk> 0000 0000 0000 0000 0000 0000 0000\n",
      "TRUE: I-ORG O O O O O O O\n",
      "PRED: I-ORG O O O O O O O\n",
      "\n",
      "--- EPOCH 14 ---\n",
      "Avg loss over last 500 updates: 0.8923789294563417\n",
      "Avg loss over last 500 updates: 0.8319656332130296\n",
      "Avg loss over last 500 updates: 0.8763949764427011\n",
      "Avg loss over last 500 updates: 0.8560448358717865\n",
      "Avg loss over last 500 updates: 0.8900122186315816\n",
      "Avg loss over last 500 updates: 0.7732713698826129\n",
      "evaluating..\n",
      "Evaluated 500\n",
      "Avg evaluation loss:\n",
      "processed 11170 tokens with 1231 phrases; found: 1190 phrases; correct: 871.\n",
      "accuracy:  75.83%; (non-O)\n",
      "accuracy:  94.43%; precision:  73.19%; recall:  70.76%; FB1:  71.95\n",
      "              LOC: precision:  85.92%; recall:  81.69%; FB1:  83.75  348\n",
      "             MISC: precision:  74.82%; recall:  54.45%; FB1:  63.03  139\n",
      "              ORG: precision:  63.49%; recall:  63.07%; FB1:  63.28  304\n",
      "              PER: precision:  68.92%; recall:  74.73%; FB1:  71.71  399\n",
      "\n",
      "2 random evaluation samples:\n",
      "SENT: The <unk> Woods , who turned <unk> Tuesday after winning an <unk> third successive U.S. <unk> <unk> , <unk> on the front nine , <unk> the first and seventh <unk> and <unk> the <unk> , <unk> ninth <unk> .\n",
      "TRUE: O O I-PER O O O O O O O O O O O I-MISC I-MISC I-MISC O O O O O O O O O O O O O O O O O O O O O O\n",
      "PRED: O I-PER I-PER O O O O O O O O O O O I-LOC O O O O O O O O O O O O O O O O O O O O I-MISC O O O\n",
      "SENT: <unk> 0000\n",
      "TRUE: I-ORG I-ORG\n",
      "PRED: I-ORG O\n"
     ]
    }
   ],
   "source": [
    "# Train BiLSTM Tagger Baseline\n",
    "model = BiLSTMTagger(vocab_size=len(word_vocab), tag_vocab_size=len(label_vocab), embedding_dim=128, hidden_dim=256).to(device)\n",
    "optimizer = optim.Adam(model.parameters(), lr=1e-3)\n",
    "mean_train_losses_per_epoch, train_losses, valid_losses, valid_evals = train(model, train_data, valid_data, word_vocab, label_vocab, epochs=15, log_interval=500)"
   ]
  },
  {
   "cell_type": "code",
   "execution_count": 98,
   "outputs": [],
   "source": [
    "torch.save(model, 'model-baseline-latest.pt')"
   ],
   "metadata": {
    "collapsed": false,
    "pycharm": {
     "name": "#%%\n"
    }
   }
  },
  {
   "cell_type": "code",
   "execution_count": 99,
   "outputs": [
    {
     "data": {
      "text/plain": "Text(0, 0.5, 'Validation Loss')"
     },
     "execution_count": 99,
     "metadata": {},
     "output_type": "execute_result"
    },
    {
     "data": {
      "text/plain": "<Figure size 432x288 with 1 Axes>",
      "image/png": "[encoded data removed]"
     },
     "metadata": {
      "needs_background": "light"
     },
     "output_type": "display_data"
    }
   ],
   "source": [
    "plt.plot(valid_losses, 'b-')\n",
    "plt.xlabel('epoch')\n",
    "plt.ylabel('Validation Loss')"
   ],
   "metadata": {
    "collapsed": false,
    "pycharm": {
     "name": "#%%\n"
    }
   }
  },
  {
   "cell_type": "code",
   "execution_count": 100,
   "outputs": [
    {
     "data": {
      "text/plain": "Text(0, 0.5, 'Training Loss')"
     },
     "execution_count": 100,
     "metadata": {},
     "output_type": "execute_result"
    },
    {
     "data": {
      "text/plain": "<Figure size 432x288 with 1 Axes>",
      "image/png": "[encoded data removed]"
     },
     "metadata": {
      "needs_background": "light"
     },
     "output_type": "display_data"
    }
   ],
   "source": [
    "plt.plot(mean_train_losses_per_epoch, 'g-')\n",
    "plt.xlabel('epoch')\n",
    "plt.ylabel('Training Loss')"
   ],
   "metadata": {
    "collapsed": false,
    "pycharm": {
     "name": "#%%\n"
    }
   }
  },
  {
   "cell_type": "code",
   "execution_count": 104,
   "outputs": [
    {
     "data": {
      "text/plain": "<matplotlib.legend.Legend at 0x11b6aca60>"
     },
     "execution_count": 104,
     "metadata": {},
     "output_type": "execute_result"
    },
    {
     "data": {
      "text/plain": "<Figure size 432x288 with 1 Axes>",
      "image/png": "[encoded data removed]"
     },
     "metadata": {
      "needs_background": "light"
     },
     "output_type": "display_data"
    }
   ],
   "source": [
    "plt.plot(mean_train_losses_per_epoch, 'g-', label='Training')\n",
    "plt.plot(valid_losses, 'b-', label='Validation')\n",
    "plt.xlabel('Epoch')\n",
    "plt.ylabel('Loss')\n",
    "plt.legend()"
   ],
   "metadata": {
    "collapsed": false,
    "pycharm": {
     "name": "#%%\n"
    }
   }
  },
  {
   "cell_type": "code",
   "execution_count": 105,
   "outputs": [],
   "source": [
    "precisions, recalls, f1s = [r[0] for r in valid_evals], [r[1] for r in valid_evals], [r[2] for r in valid_evals]"
   ],
   "metadata": {
    "collapsed": false,
    "pycharm": {
     "name": "#%%\n"
    }
   }
  },
  {
   "cell_type": "code",
   "execution_count": 118,
   "outputs": [
    {
     "data": {
      "text/plain": "<Figure size 432x288 with 1 Axes>",
      "image/png": "[encoded data removed]"
     },
     "metadata": {
      "needs_background": "light"
     },
     "output_type": "display_data"
    }
   ],
   "source": [
    "fig, ax1 = plt.subplots()\n",
    "ax1.plot(precisions, 'g:', label='precision')\n",
    "ax1.plot(recalls, 'r:', label='recall')\n",
    "ax1.plot(f1s, 'b', label='Fb1')\n",
    "ax1.set_xlabel('Epoch')\n",
    "plt.legend()\n",
    "plt.suptitle(\"Precision, Recall and Fb1 on validation dataset after every epoch\")\n",
    "plt.show()"
   ],
   "metadata": {
    "collapsed": false,
    "pycharm": {
     "name": "#%%\n"
    }
   }
  },
  {
   "cell_type": "code",
   "execution_count": 150,
   "outputs": [
    {
     "name": "stdout",
     "output_type": "stream",
     "text": [
      "example..\n",
      "SENT: <unk> takes the <unk> on a trial basis , but new coach Glenn Hoddle said he saw no reason why the former Blackburn and <unk> <unk> should not make the post his own .\n",
      "TRUE: I-PER O O O O O O O O O O O I-PER I-PER O O O O O O O O I-ORG O I-ORG O O O O O O O O O\n",
      "SENT: 0000 - British <unk> Alan John <unk> ( <unk> ) Taylor died .\n",
      "PRED: O O I-MISC O I-PER I-PER I-PER O O O I-PER O O\n"
     ]
    }
   ],
   "source": [
    "def sampling(model, word_vocab, label_vocab):\n",
    "    print(\"example..\")\n",
    "    label_vocab_itos = label_vocab.get_itos()\n",
    "    word_vocab_itos = word_vocab.get_itos()\n",
    "    word_vocab_stoi = word_vocab.get_stoi()\n",
    "    label_vocab_stoi = label_vocab.get_stoi()\n",
    "\n",
    "    sent, tags = random.choice(valid_data)\n",
    "    sentence = [word_vocab_itos[i] for i in sent]\n",
    "    true_tags = [label_vocab_itos[i] for i in tags]\n",
    "    print('SENT:', ' '.join(sentence))\n",
    "    print('TRUE:', ' '.join(true_tags))\n",
    "\n",
    "    sentence = '0000 - British <unk> Alan John <unk> ( <unk> ) Taylor died .'.split()\n",
    "    sent = torch.tensor([word_vocab_stoi.get(word, 0) for word in sentence], dtype=torch.long)\n",
    "    print('SENT:', ' '.join(sentence))\n",
    "\n",
    "    sent = sent.to(device)\n",
    "    sent = sent.unsqueeze(0)\n",
    "    score, pred_tag_seq = model(sent)\n",
    "    pred_tags = [label_vocab_itos[i] for i in pred_tag_seq[0]]\n",
    "\n",
    "    print('PRED:', ' '.join(pred_tags))\n",
    "    pass\n",
    "\n",
    "sampling(model, word_vocab, label_vocab)"
   ],
   "metadata": {
    "collapsed": false,
    "pycharm": {
     "name": "#%%\n"
    }
   }
  },
  {
   "cell_type": "code",
   "execution_count": 128,
   "outputs": [],
   "source": [],
   "metadata": {
    "collapsed": false,
    "pycharm": {
     "name": "#%%\n"
    }
   }
  },
  {
   "cell_type": "code",
   "execution_count": null,
   "outputs": [],
   "source": [],
   "metadata": {
    "collapsed": false,
    "pycharm": {
     "name": "#%%\n"
    }
   }
  },
  {
   "cell_type": "code",
   "execution_count": null,
   "metadata": {},
   "outputs": [],
   "source": []
  }
 ],
 "metadata": {
  "colab": {
   "collapsed_sections": [],
   "name": "cse291_assignment2_starter_code.ipynb",
   "provenance": []
  },
  "kernelspec": {
   "display_name": "Python 3",
   "language": "python",
   "name": "python3"
  },
  "language_info": {
   "codemirror_mode": {
    "name": "ipython",
    "version": 3
   },
   "file_extension": ".py",
   "mimetype": "text/x-python",
   "name": "python",
   "nbconvert_exporter": "python",
   "pygments_lexer": "ipython3",
   "version": "3.8.9"
  }
 },
 "nbformat": 4,
 "nbformat_minor": 4
}