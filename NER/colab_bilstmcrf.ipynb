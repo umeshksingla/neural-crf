{
 "cells": [
  {
   "cell_type": "markdown",
   "metadata": {
    "id": "yHnbGR5wpCL8"
   },
   "source": [
    "# BiLSTM CRF Tagger"
   ]
  },
  {
   "cell_type": "markdown",
   "metadata": {
    "id": "Rs2O4920pCob"
   },
   "source": [
    "## Download Data/Eval Script"
   ]
  },
  {
   "cell_type": "code",
   "execution_count": 4,
   "metadata": {
    "id": "hmfarI0hpHj6",
    "colab": {
     "base_uri": "https://localhost:8080/",
     "height": 0
    },
    "outputId": "7a652002-85fe-4efc-b1eb-2c056a66c263"
   },
   "outputs": [
    {
     "output_type": "stream",
     "name": "stdout",
     "text": [
      "--2022-05-29 03:14:09--  https://raw.githubusercontent.com/sighsmile/conlleval/master/conlleval.py\n",
      "Resolving raw.githubusercontent.com (raw.githubusercontent.com)... 185.199.108.133, 185.199.109.133, 185.199.110.133, ...\n",
      "Connecting to raw.githubusercontent.com (raw.githubusercontent.com)|185.199.108.133|:443... connected.\n",
      "HTTP request sent, awaiting response... 200 OK\n",
      "Length: 7502 (7.3K) [text/plain]\n",
      "Saving to: ‘conlleval.py’\n",
      "\n",
      "conlleval.py        100%[===================>]   7.33K  --.-KB/s    in 0s      \n",
      "\n",
      "2022-05-29 03:14:09 (69.1 MB/s) - ‘conlleval.py’ saved [7502/7502]\n",
      "\n",
      "--2022-05-29 03:14:10--  https://raw.githubusercontent.com/tberg12/cse291spr21/main/assignment2/train.data.quad\n",
      "Resolving raw.githubusercontent.com (raw.githubusercontent.com)... 185.199.108.133, 185.199.109.133, 185.199.110.133, ...\n",
      "Connecting to raw.githubusercontent.com (raw.githubusercontent.com)|185.199.108.133|:443... connected.\n",
      "HTTP request sent, awaiting response... 200 OK\n",
      "Length: 745734 (728K) [text/plain]\n",
      "Saving to: ‘train.data.quad’\n",
      "\n",
      "train.data.quad     100%[===================>] 728.26K  --.-KB/s    in 0.005s  \n",
      "\n",
      "2022-05-29 03:14:10 (145 MB/s) - ‘train.data.quad’ saved [745734/745734]\n",
      "\n",
      "--2022-05-29 03:14:10--  https://raw.githubusercontent.com/tberg12/cse291spr21/main/assignment2/dev.data.quad\n",
      "Resolving raw.githubusercontent.com (raw.githubusercontent.com)... 185.199.108.133, 185.199.109.133, 185.199.110.133, ...\n",
      "Connecting to raw.githubusercontent.com (raw.githubusercontent.com)|185.199.108.133|:443... connected.\n",
      "HTTP request sent, awaiting response... 200 OK\n",
      "Length: 179141 (175K) [text/plain]\n",
      "Saving to: ‘dev.data.quad’\n",
      "\n",
      "dev.data.quad       100%[===================>] 174.94K  --.-KB/s    in 0.002s  \n",
      "\n",
      "2022-05-29 03:14:10 (85.9 MB/s) - ‘dev.data.quad’ saved [179141/179141]\n",
      "\n"
     ]
    }
   ],
   "source": [
    "!wget https://raw.githubusercontent.com/sighsmile/conlleval/master/conlleval.py\n",
    "!wget https://raw.githubusercontent.com/tberg12/cse291spr21/main/assignment2/train.data.quad\n",
    "!wget https://raw.githubusercontent.com/tberg12/cse291spr21/main/assignment2/dev.data.quad"
   ]
  },
  {
   "cell_type": "code",
   "execution_count": 5,
   "metadata": {
    "id": "0CMvXrmwpNCM",
    "colab": {
     "base_uri": "https://localhost:8080/",
     "height": 0
    },
    "outputId": "7fb82903-da4f-47b1-c457-b1ea96b6fd42"
   },
   "outputs": [
    {
     "output_type": "stream",
     "name": "stdout",
     "text": [
      "cuda\n"
     ]
    }
   ],
   "source": [
    "import random\n",
    "\n",
    "import conlleval\n",
    "from tqdm import tqdm\n",
    "import numpy as np\n",
    "from collections import defaultdict, Counter\n",
    "import torch\n",
    "import torch.autograd as autograd\n",
    "import torch.nn as nn\n",
    "import torch.optim as optim\n",
    "from torchtext.vocab import vocab\n",
    "from torch.nn.utils.rnn import pack_padded_sequence, pad_packed_sequence\n",
    "\n",
    "torch.manual_seed(291)\n",
    "\n",
    "device = torch.device('cuda' if torch.cuda.is_available() else 'cpu')\n",
    "print(device)"
   ]
  },
  {
   "cell_type": "code",
   "execution_count": 6,
   "outputs": [],
   "source": [
    "import torch.nn.functional as F\n",
    "import matplotlib.pyplot as plt"
   ],
   "metadata": {
    "pycharm": {
     "name": "#%%\n"
    },
    "id": "V19dS3NCiP45"
   }
  },
  {
   "cell_type": "markdown",
   "metadata": {
    "id": "VOBmqHytpTGs"
   },
   "source": [
    "## Data Preparation"
   ]
  },
  {
   "cell_type": "code",
   "execution_count": 7,
   "metadata": {
    "id": "GKfmSZs8pPBV"
   },
   "outputs": [],
   "source": [
    "TRAIN_DATA = 'train.data.quad'\n",
    "VALID_DATA = 'dev.data.quad'\n",
    "UNK = '<unk>'\n",
    "PAD = '<pad>'\n",
    "START_TAG = \"O-<start>\"  # you can add this explicitly or use it implicitly in your CRF layer\n",
    "STOP_TAG = \"O-<stop>\"    # you can add this explicitly or use it implicitly in your CRF layer\n",
    "\n",
    "\n",
    "def read_conll_sentence(path):\n",
    "    \"\"\" Read a CONLL-format sentence into vocab objects\n",
    "    Args:\n",
    "        :param path: path to CONLL-format data file\n",
    "        :param word_vocab: Vocabulary object for source\n",
    "        :param label_vocab: Vocabulary object for target\n",
    "    \"\"\"\n",
    "    sent = [[], []]\n",
    "    with open(path) as f:\n",
    "        for line in f:\n",
    "            line = line.strip().split()\n",
    "            if line:\n",
    "                # replace numbers with 0000\n",
    "                word = line[0]\n",
    "                word = '0000' if word.isnumeric() else word\n",
    "                sent[0].append(word)\n",
    "                sent[1].append(line[3])\n",
    "            else:\n",
    "                yield sent[0], sent[1]\n",
    "                sent = [[], []]\n",
    "\n",
    "\n",
    "def prepare_dataset(dataset, word_vocab, label_vocab):\n",
    "    word_vocab_stoi = word_vocab.get_stoi()\n",
    "    label_vocab_stoi = label_vocab.get_stoi()\n",
    "    dataset = [\n",
    "      [\n",
    "        torch.tensor([word_vocab_stoi.get(word,0) for word in sent[0]], dtype=torch.long),\n",
    "        torch.tensor([label_vocab_stoi[label] for label in sent[1]], dtype=torch.long),\n",
    "      ]\n",
    "      for sent in dataset\n",
    "    ]\n",
    "    random.shuffle(dataset)\n",
    "    return dataset"
   ]
  },
  {
   "cell_type": "code",
   "execution_count": 8,
   "outputs": [],
   "source": [
    "# load a list of sentences, where each word in the list is a tuple containing the word and the label\n",
    "train_data = list(read_conll_sentence(TRAIN_DATA))\n",
    "train_word_counter = Counter([word for sent in train_data for word in sent[0]])\n",
    "train_label_counter = Counter([label for sent in train_data for label in sent[1]])\n",
    "word_vocab = vocab(train_word_counter, specials=[UNK, PAD], min_freq=2)\n",
    "# print(word_vocab.get_stoi())\n",
    "# word_vocab.set_default_index(UNK)"
   ],
   "metadata": {
    "pycharm": {
     "name": "#%%\n"
    },
    "id": "A8vT040TiP49"
   }
  },
  {
   "cell_type": "code",
   "execution_count": 9,
   "outputs": [
    {
     "output_type": "stream",
     "name": "stdout",
     "text": [
      "Train word vocab: 3947 symbols.\n",
      "Train label vocab: 10 symbols: ['B-LOC', 'B-ORG', 'B-MISC', 'O-<stop>', 'I-ORG', 'I-MISC', 'O-<start>', 'I-PER', 'O', 'I-LOC']\n"
     ]
    }
   ],
   "source": [
    "label_vocab = vocab(train_label_counter, specials=[START_TAG, STOP_TAG], min_freq=1)\n",
    "train_data = prepare_dataset(train_data, word_vocab, label_vocab)\n",
    "print('Train word vocab:', len(word_vocab), 'symbols.')\n",
    "print('Train label vocab:', len(label_vocab), f'symbols: {list(label_vocab.get_stoi().keys())}')"
   ],
   "metadata": {
    "pycharm": {
     "name": "#%%\n"
    },
    "colab": {
     "base_uri": "https://localhost:8080/",
     "height": 0
    },
    "id": "XHjhQrqGiP4-",
    "outputId": "a02502e9-8e9d-4636-d3ca-3d013a13df00"
   }
  },
  {
   "cell_type": "code",
   "execution_count": 10,
   "outputs": [
    {
     "output_type": "stream",
     "name": "stdout",
     "text": [
      "BEIJING 1996-08-27\n",
      "I-LOC O\n"
     ]
    }
   ],
   "source": [
    "print(' '.join([word_vocab.get_itos()[i.item()] for i in train_data[0][0]]))\n",
    "print(' '.join([label_vocab.get_itos()[i.item()] for i in train_data[0][1]]))"
   ],
   "metadata": {
    "pycharm": {
     "name": "#%%\n"
    },
    "colab": {
     "base_uri": "https://localhost:8080/",
     "height": 0
    },
    "id": "fgKJ0KMjiP4_",
    "outputId": "d958e9ea-6a4c-47fd-8862-927880c6ef50"
   }
  },
  {
   "cell_type": "code",
   "execution_count": 11,
   "outputs": [
    {
     "output_type": "stream",
     "name": "stdout",
     "text": [
      "Train data: 3420 sentences.\n",
      "Valid data: 800\n"
     ]
    }
   ],
   "source": [
    "valid_data = list(read_conll_sentence(VALID_DATA))\n",
    "valid_data = prepare_dataset(valid_data, word_vocab, label_vocab)\n",
    "print('Train data:', len(train_data), 'sentences.')\n",
    "print('Valid data:', len(valid_data))"
   ],
   "metadata": {
    "pycharm": {
     "name": "#%%\n"
    },
    "colab": {
     "base_uri": "https://localhost:8080/",
     "height": 0
    },
    "id": "EWrFAzQTiP5A",
    "outputId": "d04915ea-5b0d-4583-d077-a6d8e2fb8de3"
   }
  },
  {
   "cell_type": "code",
   "execution_count": 12,
   "outputs": [
    {
     "output_type": "stream",
     "name": "stdout",
     "text": [
      "-DOCSTART-\n",
      "O\n"
     ]
    }
   ],
   "source": [
    "print(' '.join([word_vocab.get_itos()[i.item()] for i in valid_data[0][0]]))\n",
    "print(' '.join([label_vocab.get_itos()[i.item()] for i in valid_data[0][1]]))"
   ],
   "metadata": {
    "pycharm": {
     "name": "#%%\n"
    },
    "colab": {
     "base_uri": "https://localhost:8080/",
     "height": 0
    },
    "id": "oA0Djq7HiP5B",
    "outputId": "2aedd390-f853-4052-bbb8-0a2d02d8d1bc"
   }
  },
  {
   "cell_type": "code",
   "execution_count": 13,
   "outputs": [],
   "source": [
    "# Utils from https://pytorch.org/tutorials/beginner/nlp/advanced_tutorial.html\n",
    "\n",
    "def argmax(vec):\n",
    "    # return the argmax as a python int\n",
    "    _, idx = torch.max(vec, 1)\n",
    "    return idx.item()\n",
    "\n",
    "def prepare_sequence(seq, to_ix):\n",
    "    idxs = [to_ix[w] for w in seq]\n",
    "    return torch.tensor(idxs, dtype=torch.long)\n",
    "\n",
    "def log_sum_exp(vec):\n",
    "    max_score = vec[0, argmax(vec)]\n",
    "    max_score_broadcast = max_score.view(1, -1).expand(1, vec.size()[1])\n",
    "    return max_score + torch.log(torch.sum(torch.exp(vec - max_score_broadcast)))"
   ],
   "metadata": {
    "pycharm": {
     "name": "#%%\n"
    },
    "id": "mCIgX-WxiP5C"
   }
  },
  {
   "cell_type": "markdown",
   "metadata": {
    "id": "xNNmZx_Uqy7q"
   },
   "source": [
    "## BiLSTMTaggerCRF"
   ]
  },
  {
   "cell_type": "code",
   "execution_count": 72,
   "metadata": {
    "id": "a5nVIM_Eq1ZU"
   },
   "outputs": [],
   "source": [
    "class BiLSTMCRFTagger(nn.Module):\n",
    "    def __init__(self, vocab_size, tag_vocab, embedding_dim, hidden_dim, dropout=0.3):\n",
    "        super(BiLSTMCRFTagger, self).__init__()\n",
    "        self.embedding_dim = embedding_dim\n",
    "        self.hidden_dim = hidden_dim\n",
    "        self.vocab_size = vocab_size\n",
    "        self.tagset_size = len(tag_vocab)   # includes start and stop\n",
    "        self.tag_index = tag_vocab.get_stoi()\n",
    "        print(\"self.tag_index\", self.tag_index)\n",
    "        self.start_tag_index =  self.tag_index[START_TAG]\n",
    "        self.stop_tag_index =  self.tag_index[STOP_TAG]\n",
    "\n",
    "        self.word_embeds = nn.Embedding(vocab_size, embedding_dim)\n",
    "        self.bilstm = nn.LSTM(embedding_dim, hidden_dim // 2, num_layers=1, bidirectional=True, batch_first=True)\n",
    "        self.tag_projection_layer = nn.Linear(hidden_dim, self.tagset_size)  # See baseline for comments on linear layer\n",
    "        self.dropout = nn.Dropout(p=dropout)\n",
    "\n",
    "        # log_transition_potential matrix U, for transition from tag i to tag j\n",
    "        self.U = nn.Parameter(torch.randn(self.tagset_size, self.tagset_size)).to(device) # tagset includes start and stop token\n",
    "\n",
    "        # transition probabilities (in log) for to-start-tag and from-stop-tag -> 0\n",
    "        self.U.data[:, self.start_tag_index] = -1e5\n",
    "        self.U.data[self.stop_tag_index, :] = -1e5\n",
    "\n",
    "        # print(\"self.U\", self.U, self.U.shape)\n",
    "        # print(\"=====\")\n",
    "\n",
    "    def init_hidden(self):\n",
    "        return (torch.randn(2, 1, self.hidden_dim // 2).to(device),\n",
    "                torch.randn(2, 1, self.hidden_dim // 2).to(device))\n",
    "\n",
    "    def compute_lstm_emission_features(self, sentence):\n",
    "        hidden = self.init_hidden()\n",
    "        embeds = self.dropout(self.word_embeds(sentence))\n",
    "        # embeds = self.word_embeds(sentence)\n",
    "        bilstm_out, hidden = self.bilstm(embeds, hidden)\n",
    "        bilstm_out = self.dropout(bilstm_out)\n",
    "        bilstm_f_logits = self.tag_projection_layer(bilstm_out)\n",
    "        return bilstm_f_logits\n",
    "\n",
    "    def decode(self, bilstm_f_logits):\n",
    "        # Decode the most likely sequence exactly, using Viterbi algorithm\n",
    "        # print(\"decoding\")\n",
    "        len_sentence = len(bilstm_f_logits[0])\n",
    "\n",
    "        L = torch.full((self.tagset_size, len_sentence+1), fill_value=-1e5).to(device) # store score for all paths up till a point ending with each tag\n",
    "        states = torch.full((self.tagset_size, len_sentence+1), fill_value=0).to(device) # we won't be using its 0th column\n",
    "        # print(L)\n",
    "        # print(states)\n",
    "\n",
    "        L[self.start_tag_index, 0] = 0\n",
    "        for t in range(1, len_sentence+1):\n",
    "            for tag in range(self.tagset_size):\n",
    "                prev = L[:, t-1].view(1, -1)\n",
    "                transition = self.U[:, tag].view(1, -1)\n",
    "                emission_score = bilstm_f_logits[0][t-1][tag].view(1)\n",
    "                # print(prev, transition, emission_score)\n",
    "                states[tag, t] = argmax(prev + transition) # stores best tag for previous location if t-th tag is tag\n",
    "                # print(states[tag, t], prev[0][states[tag, t]], transition[0][states[tag, t]], emission_score)\n",
    "                L[tag, t] = prev[0, states[tag, t]] + transition[0, states[tag, t]] + emission_score # stores max NLL for current location if current tag is j\n",
    "                # print(f\"L[{tag}, {t}]\", L[tag, t])\n",
    "            # print()\n",
    "\n",
    "        path = []\n",
    "        best_last_tag = argmax(L[:, -1].view(1, -1))\n",
    "        score = L[best_last_tag, -1]\n",
    "\n",
    "        c = best_last_tag\n",
    "        path.append(c)\n",
    "        t = len_sentence-1\n",
    "        while t >= 0:\n",
    "            c = states[c, t+1].item()\n",
    "            t -= 1\n",
    "            path.append(c)\n",
    "\n",
    "        path = path[::-1]\n",
    "        final_path = torch.tensor(path[1:], dtype=torch.long).view(1, -1)\n",
    "        # print(path, final_path)\n",
    "        # print(\"len(path)\", len(path), \"len(final_path[0])\", len(final_path[0]), \"len_sentence\", len_sentence)\n",
    "\n",
    "        assert path[0] == self.start_tag_index\n",
    "        assert len(final_path[0]) == len_sentence\n",
    "        assert final_path[0][0] != self.start_tag_index\n",
    "        return score, final_path\n",
    "\n",
    "    def forward(self, sentence):\n",
    "        # Only used during inference i.e. in evaluate function, not loss calculation.\n",
    "        bilstm_f_logits = self.compute_lstm_emission_features(sentence).to(device)\n",
    "        score, tagseq = self.decode(bilstm_f_logits)\n",
    "        return score, tagseq\n",
    "\n",
    "    def Z(self, sentence, bilstm_f_logits):\n",
    "        # Calculate partition function Z for the denominator term of the loss using Forward algorithm\n",
    "        # print(\"in Z\")\n",
    "        # print(\"sentence\", sentence)\n",
    "        # print(\"bilstm_f_logits\", bilstm_f_logits[0])\n",
    "\n",
    "        start_transition_score = self.U[self.start_tag_index, :].view(1, -1)\n",
    "        start_emit_score = bilstm_f_logits[0][0].view(1, -1)\n",
    "\n",
    "        # print(\"start_transition_score\", start_transition_score)\n",
    "        # print(\"start_emit_score\", start_emit_score)\n",
    "        #\n",
    "        # init_alphas = torch.full((1, self.tagset_size), -10000.)\n",
    "        score_till_now = start_transition_score  + start_emit_score # base case\n",
    "        # print(\"score_till_now base\", score_till_now)\n",
    "\n",
    "        for t in range(1, len(sentence)):\n",
    "            # print(\"moving to next word\", i)\n",
    "            # for each possible tag, score till now\n",
    "            scores = []\n",
    "            for tag in range(self.tagset_size):\n",
    "                transition_score = self.U[:, tag].view(1, -1)\n",
    "                # print(\"> transition_score\", transition_score)\n",
    "                emit_score = bilstm_f_logits[0][t][tag].view(1, -1)\n",
    "                # print(\"> emit_score\", emit_score)\n",
    "                emission_score = emit_score.expand(1, self.tagset_size) # same score to be added corresponding to any prev tag, hence making copies\n",
    "                # print(\"> emission_score\", emission_score)\n",
    "                # print(\"> sum\", score_till_now + transition_score + emission_score)\n",
    "                score = log_sum_exp(score_till_now + transition_score + emission_score)\n",
    "                # print(\"> t score\", score)\n",
    "                scores.append(score.view(1))\n",
    "            assert len(scores) == self.tagset_size\n",
    "            score_till_now = torch.cat(scores).view(1, -1).to(device)\n",
    "            # print(\">>> score_till_now\", score_till_now, \"\\n\")\n",
    "\n",
    "        # print(\"done, add stop\")\n",
    "        z = log_sum_exp(score_till_now + self.U[:, self.stop_tag_index].view(1, -1))\n",
    "\n",
    "        # print(\"score_till_now last\", z)\n",
    "        return z\n",
    "\n",
    "    def loss(self, sentence, tags):\n",
    "        # Loss function for training\n",
    "        # print(\"in loss\")\n",
    "\n",
    "        # get logits\n",
    "        bilstm_f_logits = self.compute_lstm_emission_features(sentence).to(device)\n",
    "\n",
    "        # GET numerator: score for current tag sequence\n",
    "        score = torch.zeros(1).to(device)\n",
    "        # print(\"got tags\", tags)\n",
    "        # print(\"len(sentence)\", len(sentence[0]))\n",
    "        score += self.U[self.start_tag_index, tags[0]] + bilstm_f_logits[0][0][tags[0]]\n",
    "        for t in range(1, len(sentence[0])):\n",
    "            score += self.U[tags[t-1], tags[t]] + bilstm_f_logits[0][t][tags[t]]\n",
    "        score += self.U[tags[-1], self.stop_tag_index]\n",
    "\n",
    "        # GET denominator: sum of scores for all possible tag sequences\n",
    "        z = self.Z(sentence[0], bilstm_f_logits)\n",
    "\n",
    "        final_loss = -score + z\n",
    "        # print(\"N D final\", score, z, final_loss, \"\\n\")\n",
    "        return final_loss"
   ]
  },
  {
   "cell_type": "markdown",
   "source": [
    "## Train / Eval loop"
   ],
   "metadata": {
    "collapsed": false,
    "id": "hVkLc2TtiP5E"
   }
  },
  {
   "cell_type": "code",
   "execution_count": 73,
   "metadata": {
    "id": "Gw2He2cgrrF1"
   },
   "outputs": [],
   "source": [
    "def train(model, train_data, valid_data, word_vocab, label_vocab, epochs, log_interval=25):\n",
    "    train_losses_per_epoch = []\n",
    "    mean_train_losses_per_epoch = []\n",
    "    mean_valid_losses_per_epoch = []\n",
    "    valid_eval_results = []\n",
    "    label_vocab_itos = label_vocab.get_itos()\n",
    "    word_vocab_itos = word_vocab.get_itos()\n",
    "    for epoch in range(epochs):\n",
    "        print(f'\\n--- EPOCH {epoch} ---')\n",
    "        model.train()\n",
    "        train_losses_per_epoch.append([])\n",
    "        c = 100\n",
    "        for i, (sent, tags) in enumerate(train_data):\n",
    "            # print(\"sent, tags\", sent, tags)\n",
    "            model.zero_grad() # set prev gradients to 0\n",
    "            sent, tags = sent.to(device), tags.to(device)\n",
    "            sent = sent.unsqueeze(0)\n",
    "            tags = tags.unsqueeze(0)\n",
    "            # print(sent, [word_vocab_itos[i] for i in sent[0]])\n",
    "            # print(sent, [label_vocab_itos[i] for i in tags[0]])\n",
    "            # print(\"unsq\", sent, tags)\n",
    "            # print(\"len input\", len(sent[0]))\n",
    "            loss = model.loss(sent, tags[0])\n",
    "            loss.backward()\n",
    "            optimizer.step()\n",
    "            train_losses_per_epoch[-1].append(loss.detach().cpu().item())\n",
    "            if i > 0 and i % log_interval == 0:\n",
    "                mean_loss = np.mean(train_losses_per_epoch[-1][-log_interval:])\n",
    "                print(f'Avg loss over last {log_interval} updates: {mean_loss}')\n",
    "            if not c: break\n",
    "            # c -= 1\n",
    "        mean_train_losses_per_epoch.append(np.mean(train_losses_per_epoch[-1]))\n",
    "\n",
    "        mean_valid_loss, eval_result = evaluate(model, valid_data, word_vocab, label_vocab, log_interval)\n",
    "        mean_valid_losses_per_epoch.append(mean_valid_loss)\n",
    "        valid_eval_results.append(eval_result)\n",
    "    return mean_train_losses_per_epoch, train_losses_per_epoch, mean_valid_losses_per_epoch, valid_eval_results\n",
    "\n",
    "\n",
    "def evaluate(model, dataset, word_vocab, label_vocab, log_interval):\n",
    "    print(\"evaluating..\")\n",
    "    model.eval()\n",
    "    losses = []\n",
    "    scores = []\n",
    "    true_tags = []\n",
    "    pred_tags = []\n",
    "    sents = []\n",
    "    label_vocab_itos = label_vocab.get_itos()\n",
    "    word_vocab_itos = word_vocab.get_itos()\n",
    "    c = 100\n",
    "    for i, (sent, tags) in enumerate(dataset):\n",
    "        with torch.no_grad():\n",
    "            # print(\"sent, tags\", sent, tags)\n",
    "            sent, tags = sent.to(device), tags.to(device)\n",
    "            sent = sent.unsqueeze(0)\n",
    "            tags = tags.unsqueeze(0)\n",
    "            # print(sent, [word_vocab_itos[i] for i in sent[0]])\n",
    "            # print(tags, [label_vocab_itos[i] for i in tags[0]])\n",
    "            this_loss = model.loss(sent, tags[0]).cpu().detach().item()\n",
    "            # print(\"this_loss\", this_loss)\n",
    "            losses.append(this_loss)\n",
    "            score, pred_tag_seq = model(sent)\n",
    "            scores.append(score.cpu().detach().numpy())\n",
    "            true_tags.append([label_vocab_itos[i] for i in tags.tolist()[0]])\n",
    "            pred_tags.append([label_vocab_itos[i] for i in pred_tag_seq[0]])\n",
    "            sents.append([word_vocab_itos[i] for i in sent[0]])\n",
    "        if i > 0 and i%log_interval == 0:\n",
    "            print(\"Evaluated\", i)\n",
    "        if not c: break\n",
    "        # c -= 1\n",
    "\n",
    "    mean_valid_loss = np.mean(losses)\n",
    "    print('Avg evaluation loss:', )\n",
    "    eval_result = conlleval.evaluate([tag for tags in true_tags for tag in tags], [tag for tags in pred_tags for tag in tags], verbose=True)\n",
    "    k=2\n",
    "    print(f'\\n{k} random evaluation samples:')\n",
    "    for i in np.random.randint(0, len(sents), size=k):\n",
    "        print('SENT:', ' '.join(sents[i]))\n",
    "        print('TRUE:', ' '.join(true_tags[i]))\n",
    "        print('PRED:', ' '.join(pred_tags[i]))\n",
    "    return mean_valid_loss, eval_result"
   ]
  },
  {
   "cell_type": "markdown",
   "metadata": {
    "id": "TdJsc_y6rxdC"
   },
   "source": [
    "## Training"
   ]
  },
  {
   "cell_type": "code",
   "execution_count": null,
   "metadata": {
    "id": "nVyfoJfZry4-",
    "pycharm": {
     "is_executing": true
    },
    "colab": {
     "base_uri": "https://localhost:8080/",
     "height": 0
    },
    "outputId": "4c5ce614-78a5-4f28-c00c-ca03472a285f"
   },
   "outputs": [],
   "source": [
    "# Train BiLSTM Tagger CRF\n",
    "model = BiLSTMCRFTagger(vocab_size=len(word_vocab), tag_vocab=label_vocab, embedding_dim=128, hidden_dim=256).to(device)\n",
    "optimizer = optim.Adam(model.parameters(), lr=1e-3)\n",
    "mean_train_losses_per_epoch, train_losses, valid_losses, valid_evals = train(model, train_data, valid_data, word_vocab, label_vocab, epochs=15, log_interval=500)"
   ]
  },
  {
   "cell_type": "code",
   "source": [
    "torch.save(model, 'model-crf-2.pt')"
   ],
   "metadata": {
    "id": "sF6ioTYy3G7J"
   },
   "execution_count": 77,
   "outputs": []
  },
  {
   "cell_type": "code",
   "source": [
    "valid_losses, mean_train_losses_per_epoch"
   ],
   "metadata": {
    "id": "K9Fvaxg6aH5B"
   },
   "execution_count": null,
   "outputs": []
  },
  {
   "cell_type": "code",
   "execution_count": 88,
   "outputs": [
    {
     "output_type": "execute_result",
     "data": {
      "text/plain": [
       "Text(0, 0.5, 'Validation Loss')"
      ]
     },
     "metadata": {},
     "execution_count": 88
    },
    {
     "output_type": "display_data",
     "data": {
      "text/plain": [
       "<Figure size 432x288 with 1 Axes>"
      ],
      "image/png": "[encoded data removed]"
     },
     "metadata": {
      "needs_background": "light"
     }
    }
   ],
   "source": [
    "plt.plot(valid_losses, 'b-')\n",
    "plt.xlabel('Epoch')\n",
    "plt.ylabel('Validation Loss')"
   ],
   "metadata": {
    "pycharm": {
     "name": "#%%\n"
    },
    "colab": {
     "base_uri": "https://localhost:8080/",
     "height": 296
    },
    "id": "UVpiK3wWiP5H",
    "outputId": "26e434e3-2251-4726-d53b-71f16db52a86"
   }
  },
  {
   "cell_type": "code",
   "source": [
    "plt.plot(mean_train_losses_per_epoch, 'g-')\n",
    "plt.xlabel('Epoch')\n",
    "plt.ylabel('Training Loss')"
   ],
   "metadata": {
    "colab": {
     "base_uri": "https://localhost:8080/",
     "height": 296
    },
    "id": "l5uK17eMFocJ",
    "outputId": "9a9deb9d-76fd-4f84-dfd3-1ef14638533a"
   },
   "execution_count": 89,
   "outputs": [
    {
     "output_type": "execute_result",
     "data": {
      "text/plain": [
       "Text(0, 0.5, 'Training Loss')"
      ]
     },
     "metadata": {},
     "execution_count": 89
    },
    {
     "output_type": "display_data",
     "data": {
      "text/plain": [
       "<Figure size 432x288 with 1 Axes>"
      ],
      "image/png": "[encoded data removed]"
     },
     "metadata": {
      "needs_background": "light"
     }
    }
   ]
  },
  {
   "cell_type": "code",
   "source": [
    "plt.plot(mean_train_losses_per_epoch, 'g-')\n",
    "plt.plot(valid_losses, 'b-')\n",
    "plt.xlabel('Epoch')\n",
    "plt.ylabel('Training and Validation Loss')"
   ],
   "metadata": {
    "colab": {
     "base_uri": "https://localhost:8080/",
     "height": 296
    },
    "id": "YIh-FZPy25nW",
    "outputId": "99ebd418-35c0-4f08-f0b5-e84f46744b2f"
   },
   "execution_count": 90,
   "outputs": [
    {
     "output_type": "execute_result",
     "data": {
      "text/plain": [
       "Text(0, 0.5, 'Training and Validation Loss')"
      ]
     },
     "metadata": {},
     "execution_count": 90
    },
    {
     "output_type": "display_data",
     "data": {
      "text/plain": [
       "<Figure size 432x288 with 1 Axes>"
      ],
      "image/png": "[encoded data removed]"
     },
     "metadata": {
      "needs_background": "light"
     }
    }
   ]
  },
  {
   "cell_type": "code",
   "execution_count": 82,
   "outputs": [],
   "source": [
    "precisions, recalls, f1s = [r[0] for r in valid_evals], [r[1] for r in valid_evals], [r[2] for r in valid_evals]"
   ],
   "metadata": {
    "pycharm": {
     "name": "#%%\n"
    },
    "id": "PeBMbYuxiP5I"
   }
  },
  {
   "cell_type": "code",
   "source": [
    "fig, ax1 = plt.subplots()\n",
    "ax1.plot(precisions, 'g:', label='precision')\n",
    "ax1.plot(recalls, 'r:', label='recall')\n",
    "ax1.plot(f1s, 'b', label='Fb1')\n",
    "ax1.set_xlabel('Epoch')\n",
    "plt.legend()\n",
    "plt.suptitle(\"Precision, Recall and Fb1 on validation dataset after every epoch\")\n",
    "plt.show()"
   ],
   "metadata": {
    "colab": {
     "base_uri": "https://localhost:8080/",
     "height": 308
    },
    "id": "QXbxL41q41b5",
    "outputId": "18ffae8f-f91e-4de0-8490-aa0eb74a02a7"
   },
   "execution_count": 85,
   "outputs": [
    {
     "output_type": "display_data",
     "data": {
      "text/plain": [
       "<Figure size 432x288 with 1 Axes>"
      ],
      "image/png": "[encoded data removed]"
     },
     "metadata": {
      "needs_background": "light"
     }
    }
   ]
  },
  {
   "cell_type": "code",
   "source": [
    "def sampling(model, word_vocab, label_vocab):\n",
    "    print(\"example..\")\n",
    "    label_vocab_itos = label_vocab.get_itos()\n",
    "    word_vocab_itos = word_vocab.get_itos()\n",
    "    word_vocab_stoi = word_vocab.get_stoi()\n",
    "    label_vocab_stoi = label_vocab.get_stoi()\n",
    "\n",
    "    # sent, tags = random.choice(valid_data)\n",
    "    # sentence = [word_vocab_itos[i] for i in sent]\n",
    "    # true_tags = [label_vocab_itos[i] for i in tags]\n",
    "    # print('SENT:', ' '.join(sentence))\n",
    "    # print('TRUE:', ' '.join(true_tags))\n",
    "\n",
    "    sentence = \"Nigeria is under fire from many Western countries for human rights <unk>\".split()\n",
    "    sent = torch.tensor([word_vocab_stoi.get(word, 0) for word in sentence], dtype=torch.long)\n",
    "    print('SENT:', ' '.join(sentence))\n",
    "\n",
    "    sent = sent.to(device)\n",
    "    sent = sent.unsqueeze(0)\n",
    "    score, pred_tag_seq = model(sent)\n",
    "    pred_tags = [label_vocab_itos[i] for i in pred_tag_seq[0]]\n",
    "\n",
    "    print('PRED:', ' '.join(pred_tags))\n",
    "    pass\n",
    "\n",
    "sampling(model, word_vocab, label_vocab)"
   ],
   "metadata": {
    "colab": {
     "base_uri": "https://localhost:8080/",
     "height": 0
    },
    "id": "QIuqNsNZElRb",
    "outputId": "99da9358-b139-44af-a5f4-b01ce32fcbea"
   },
   "execution_count": 94,
   "outputs": [
    {
     "output_type": "stream",
     "name": "stdout",
     "text": [
      "example..\n",
      "SENT: Nigeria is under fire from many Western countries for human rights <unk>\n",
      "PRED: I-LOC O O O O O I-MISC O O O O O\n"
     ]
    }
   ]
  },
  {
   "cell_type": "code",
   "source": [],
   "metadata": {
    "id": "KWQ1ZsnKEltS"
   },
   "execution_count": null,
   "outputs": []
  },
  {
   "cell_type": "code",
   "execution_count": null,
   "outputs": [],
   "source": [],
   "metadata": {
    "collapsed": false,
    "pycharm": {
     "name": "#%%\n"
    }
   }
  }
 ],
 "metadata": {
  "colab": {
   "collapsed_sections": [],
   "name": "cse291_assignment2_bilstmcrf.ipynb",
   "provenance": []
  },
  "kernelspec": {
   "display_name": "Python 3",
   "language": "python",
   "name": "python3"
  },
  "language_info": {
   "codemirror_mode": {
    "name": "ipython",
    "version": 3
   },
   "file_extension": ".py",
   "mimetype": "text/x-python",
   "name": "python",
   "nbconvert_exporter": "python",
   "pygments_lexer": "ipython3",
   "version": "3.8.9"
  },
  "accelerator": "GPU"
 },
 "nbformat": 4,
 "nbformat_minor": 0
}